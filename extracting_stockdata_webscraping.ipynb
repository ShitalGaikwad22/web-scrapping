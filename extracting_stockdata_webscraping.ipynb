{
 "cells": [
  {
   "cell_type": "markdown",
   "metadata": {},
   "source": [
    "<h1>Extracting Stock Data Using Web Scraping</h1>\n"
   ]
  },
  {
   "cell_type": "markdown",
   "metadata": {},
   "source": [
    "Not all stock data is available via API in this assignment; you will use web-scraping to obtain financial data. You will be quizzed on your results.\\\n",
    "Using beautiful soup we will extract historical share data from a web-page.\n"
   ]
  },
  {
   "cell_type": "code",
   "execution_count": 1,
   "metadata": {},
   "outputs": [
    {
     "name": "stdout",
     "output_type": "stream",
     "text": [
      "Collecting bs4\n",
      "  Downloading https://files.pythonhosted.org/packages/10/ed/7e8b97591f6f456174139ec089c769f89a94a1a4025fe967691de971f314/bs4-0.0.1.tar.gz\n",
      "Collecting beautifulsoup4 (from bs4)\n",
      "\u001b[?25l  Downloading https://files.pythonhosted.org/packages/d1/41/e6495bd7d3781cee623ce23ea6ac73282a373088fcd0ddc809a047b18eae/beautifulsoup4-4.9.3-py3-none-any.whl (115kB)\n",
      "\u001b[K     |████████████████████████████████| 122kB 16.0MB/s eta 0:00:01\n",
      "\u001b[?25hCollecting soupsieve>1.2; python_version >= \"3.0\" (from beautifulsoup4->bs4)\n",
      "  Downloading https://files.pythonhosted.org/packages/36/69/d82d04022f02733bf9a72bc3b96332d360c0c5307096d76f6bb7489f7e57/soupsieve-2.2.1-py3-none-any.whl\n",
      "Building wheels for collected packages: bs4\n",
      "  Building wheel for bs4 (setup.py) ... \u001b[?25ldone\n",
      "\u001b[?25h  Stored in directory: /home/jupyterlab/.cache/pip/wheels/a0/b0/b2/4f80b9456b87abedbc0bf2d52235414c3467d8889be38dd472\n",
      "Successfully built bs4\n",
      "Installing collected packages: soupsieve, beautifulsoup4, bs4\n",
      "Successfully installed beautifulsoup4-4.9.3 bs4-0.0.1 soupsieve-2.2.1\n"
     ]
    }
   ],
   "source": [
    "#!pip install pandas\n",
    "#!pip install requests\n",
    "!pip install bs4\n",
    "#!pip install plotly"
   ]
  },
  {
   "cell_type": "code",
   "execution_count": 2,
   "metadata": {},
   "outputs": [],
   "source": [
    "import pandas as pd\n",
    "import requests\n",
    "from bs4 import BeautifulSoup "
   ]
  },
  {
   "cell_type": "markdown",
   "metadata": {},
   "source": [
    "## Using Webscraping to Extract Stock Data\n"
   ]
  },
  {
   "cell_type": "markdown",
   "metadata": {},
   "source": [
    "url -  https://finance.yahoo.com/quote/AMZN/history?period1=1451606400\\&period2=1612137600\\&interval=1mo\\&filter=history\\&frequency=1mo\\&includeAdjustedClose=true. "
   ]
  },
  {
   "cell_type": "code",
   "execution_count": 24,
   "metadata": {},
   "outputs": [],
   "source": [
    "url ='https://finance.yahoo.com/quote/AMZN/history?period1=863654400&period2=1621296000&interval=1d&filter=history&frequency=1d&includeAdjustedClose=true'\n",
    "\n",
    "response = requests.get(url)"
   ]
  },
  {
   "cell_type": "code",
   "execution_count": 25,
   "metadata": {},
   "outputs": [],
   "source": [
    "html_data = response.text"
   ]
  },
  {
   "cell_type": "markdown",
   "metadata": {},
   "source": [
    "Parse the html data using `beautiful_soup`.\n"
   ]
  },
  {
   "cell_type": "code",
   "execution_count": 26,
   "metadata": {},
   "outputs": [],
   "source": [
    "soup = BeautifulSoup(html_data,'html5lib')"
   ]
  },
  {
   "cell_type": "markdown",
   "metadata": {},
   "source": [
    "content of the title attribute:\n"
   ]
  },
  {
   "cell_type": "code",
   "execution_count": 27,
   "metadata": {},
   "outputs": [
    {
     "data": {
      "text/plain": [
       "<title>Amazon.com, Inc. (AMZN) Stock Historical Prices &amp; Data - Yahoo Finance</title>"
      ]
     },
     "execution_count": 27,
     "metadata": {},
     "output_type": "execute_result"
    }
   ],
   "source": [
    "soup.title"
   ]
  },
  {
   "cell_type": "code",
   "execution_count": 29,
   "metadata": {},
   "outputs": [],
   "source": [
    "col = soup.find_all(\"td\")\n"
   ]
  },
  {
   "cell_type": "code",
   "execution_count": 30,
   "metadata": {},
   "outputs": [
    {
     "name": "stdout",
     "output_type": "stream",
     "text": [
      "[<td class=\"Py(10px) Ta(start) Pend(10px)\" data-reactid=\"52\"><span data-reactid=\"53\">May 17, 2021</span></td>, <td class=\"Py(10px) Pstart(10px)\" data-reactid=\"54\"><span data-reactid=\"55\">3,245.93</span></td>, <td class=\"Py(10px) Pstart(10px)\" data-reactid=\"56\"><span data-reactid=\"57\">3,292.75</span></td>, <td class=\"Py(10px) Pstart(10px)\" data-reactid=\"58\"><span data-reactid=\"59\">3,234.59</span></td>, <td class=\"Py(10px) Pstart(10px)\" data-reactid=\"60\"><span data-reactid=\"61\">3,270.39</span></td>, <td class=\"Py(10px) Pstart(10px)\" data-reactid=\"62\"><span data-reactid=\"63\">3,270.39</span></td>, <td class=\"Py(10px) Pstart(10px)\" data-reactid=\"64\"><span data-reactid=\"65\">3,723,900</span></td>]\n",
      "[<td class=\"Py(10px) Ta(start) Pend(10px)\" data-reactid=\"67\"><span data-reactid=\"68\">May 14, 2021</span></td>, <td class=\"Py(10px) Pstart(10px)\" data-reactid=\"69\"><span data-reactid=\"70\">3,185.56</span></td>, <td class=\"Py(10px) Pstart(10px)\" data-reactid=\"71\"><span data-reactid=\"72\">3,228.86</span></td>, <td class=\"Py(10px) Pstart(10px)\" data-reactid=\"73\"><span data-reactid=\"74\">3,183.00</span></td>, <td class=\"Py(10px) Pstart(10px)\" data-reactid=\"75\"><span data-reactid=\"76\">3,222.90</span></td>, <td class=\"Py(10px) Pstart(10px)\" data-reactid=\"77\"><span data-reactid=\"78\">3,222.90</span></td>, <td class=\"Py(10px) Pstart(10px)\" data-reactid=\"79\"><span data-reactid=\"80\">3,321,400</span></td>]\n",
      "[<td class=\"Py(10px) Ta(start) Pend(10px)\" data-reactid=\"82\"><span data-reactid=\"83\">May 13, 2021</span></td>, <td class=\"Py(10px) Pstart(10px)\" data-reactid=\"84\"><span data-reactid=\"85\">3,185.47</span></td>, <td class=\"Py(10px) Pstart(10px)\" data-reactid=\"86\"><span data-reactid=\"87\">3,203.84</span></td>, <td class=\"Py(10px) Pstart(10px)\" data-reactid=\"88\"><span data-reactid=\"89\">3,133.00</span></td>, <td class=\"Py(10px) Pstart(10px)\" data-reactid=\"90\"><span data-reactid=\"91\">3,161.47</span></td>, <td class=\"Py(10px) Pstart(10px)\" data-reactid=\"92\"><span data-reactid=\"93\">3,161.47</span></td>, <td class=\"Py(10px) Pstart(10px)\" data-reactid=\"94\"><span data-reactid=\"95\">3,350,900</span></td>]\n",
      "[<td class=\"Py(10px) Ta(start) Pend(10px)\" data-reactid=\"97\"><span data-reactid=\"98\">May 12, 2021</span></td>, <td class=\"Py(10px) Pstart(10px)\" data-reactid=\"99\"><span data-reactid=\"100\">3,185.00</span></td>, <td class=\"Py(10px) Pstart(10px)\" data-reactid=\"101\"><span data-reactid=\"102\">3,207.94</span></td>, <td class=\"Py(10px) Pstart(10px)\" data-reactid=\"103\"><span data-reactid=\"104\">3,133.10</span></td>, <td class=\"Py(10px) Pstart(10px)\" data-reactid=\"105\"><span data-reactid=\"106\">3,151.94</span></td>, <td class=\"Py(10px) Pstart(10px)\" data-reactid=\"107\"><span data-reactid=\"108\">3,151.94</span></td>, <td class=\"Py(10px) Pstart(10px)\" data-reactid=\"109\"><span data-reactid=\"110\">4,936,400</span></td>]\n",
      "[<td class=\"Py(10px) Ta(start) Pend(10px)\" data-reactid=\"112\"><span data-reactid=\"113\">May 11, 2021</span></td>, <td class=\"Py(10px) Pstart(10px)\" data-reactid=\"114\"><span data-reactid=\"115\">3,136.28</span></td>, <td class=\"Py(10px) Pstart(10px)\" data-reactid=\"116\"><span data-reactid=\"117\">3,238.00</span></td>, <td class=\"Py(10px) Pstart(10px)\" data-reactid=\"118\"><span data-reactid=\"119\">3,127.37</span></td>, <td class=\"Py(10px) Pstart(10px)\" data-reactid=\"120\"><span data-reactid=\"121\">3,223.91</span></td>, <td class=\"Py(10px) Pstart(10px)\" data-reactid=\"122\"><span data-reactid=\"123\">3,223.91</span></td>, <td class=\"Py(10px) Pstart(10px)\" data-reactid=\"124\"><span data-reactid=\"125\">4,619,800</span></td>]\n",
      "[<td class=\"Py(10px) Ta(start) Pend(10px)\" data-reactid=\"127\"><span data-reactid=\"128\">May 10, 2021</span></td>, <td class=\"Py(10px) Pstart(10px)\" data-reactid=\"129\"><span data-reactid=\"130\">3,282.32</span></td>, <td class=\"Py(10px) Pstart(10px)\" data-reactid=\"131\"><span data-reactid=\"132\">3,283.00</span></td>, <td class=\"Py(10px) Pstart(10px)\" data-reactid=\"133\"><span data-reactid=\"134\">3,190.00</span></td>, <td class=\"Py(10px) Pstart(10px)\" data-reactid=\"135\"><span data-reactid=\"136\">3,190.49</span></td>, <td class=\"Py(10px) Pstart(10px)\" data-reactid=\"137\"><span data-reactid=\"138\">3,190.49</span></td>, <td class=\"Py(10px) Pstart(10px)\" data-reactid=\"139\"><span data-reactid=\"140\">5,838,600</span></td>]\n",
      "[<td class=\"Py(10px) Ta(start) Pend(10px)\" data-reactid=\"142\"><span data-reactid=\"143\">May 07, 2021</span></td>, <td class=\"Py(10px) Pstart(10px)\" data-reactid=\"144\"><span data-reactid=\"145\">3,319.09</span></td>, <td class=\"Py(10px) Pstart(10px)\" data-reactid=\"146\"><span data-reactid=\"147\">3,330.89</span></td>, <td class=\"Py(10px) Pstart(10px)\" data-reactid=\"148\"><span data-reactid=\"149\">3,289.07</span></td>, <td class=\"Py(10px) Pstart(10px)\" data-reactid=\"150\"><span data-reactid=\"151\">3,291.61</span></td>, <td class=\"Py(10px) Pstart(10px)\" data-reactid=\"152\"><span data-reactid=\"153\">3,291.61</span></td>, <td class=\"Py(10px) Pstart(10px)\" data-reactid=\"154\"><span data-reactid=\"155\">4,706,800</span></td>]\n",
      "[<td class=\"Py(10px) Ta(start) Pend(10px)\" data-reactid=\"157\"><span data-reactid=\"158\">May 06, 2021</span></td>, <td class=\"Py(10px) Pstart(10px)\" data-reactid=\"159\"><span data-reactid=\"160\">3,270.00</span></td>, <td class=\"Py(10px) Pstart(10px)\" data-reactid=\"161\"><span data-reactid=\"162\">3,314.40</span></td>, <td class=\"Py(10px) Pstart(10px)\" data-reactid=\"163\"><span data-reactid=\"164\">3,247.20</span></td>, <td class=\"Py(10px) Pstart(10px)\" data-reactid=\"165\"><span data-reactid=\"166\">3,306.37</span></td>, <td class=\"Py(10px) Pstart(10px)\" data-reactid=\"167\"><span data-reactid=\"168\">3,306.37</span></td>, <td class=\"Py(10px) Pstart(10px)\" data-reactid=\"169\"><span data-reactid=\"170\">4,447,700</span></td>]\n",
      "[<td class=\"Py(10px) Ta(start) Pend(10px)\" data-reactid=\"172\"><span data-reactid=\"173\">May 05, 2021</span></td>, <td class=\"Py(10px) Pstart(10px)\" data-reactid=\"174\"><span data-reactid=\"175\">3,338.86</span></td>, <td class=\"Py(10px) Pstart(10px)\" data-reactid=\"176\"><span data-reactid=\"177\">3,354.70</span></td>, <td class=\"Py(10px) Pstart(10px)\" data-reactid=\"178\"><span data-reactid=\"179\">3,264.36</span></td>, <td class=\"Py(10px) Pstart(10px)\" data-reactid=\"180\"><span data-reactid=\"181\">3,270.54</span></td>, <td class=\"Py(10px) Pstart(10px)\" data-reactid=\"182\"><span data-reactid=\"183\">3,270.54</span></td>, <td class=\"Py(10px) Pstart(10px)\" data-reactid=\"184\"><span data-reactid=\"185\">3,711,300</span></td>]\n",
      "[<td class=\"Py(10px) Ta(start) Pend(10px)\" data-reactid=\"187\"><span data-reactid=\"188\">May 04, 2021</span></td>, <td class=\"Py(10px) Pstart(10px)\" data-reactid=\"189\"><span data-reactid=\"190\">3,356.19</span></td>, <td class=\"Py(10px) Pstart(10px)\" data-reactid=\"191\"><span data-reactid=\"192\">3,367.98</span></td>, <td class=\"Py(10px) Pstart(10px)\" data-reactid=\"193\"><span data-reactid=\"194\">3,272.13</span></td>, <td class=\"Py(10px) Pstart(10px)\" data-reactid=\"195\"><span data-reactid=\"196\">3,311.87</span></td>, <td class=\"Py(10px) Pstart(10px)\" data-reactid=\"197\"><span data-reactid=\"198\">3,311.87</span></td>, <td class=\"Py(10px) Pstart(10px)\" data-reactid=\"199\"><span data-reactid=\"200\">5,439,400</span></td>]\n",
      "[<td class=\"Py(10px) Ta(start) Pend(10px)\" data-reactid=\"202\"><span data-reactid=\"203\">May 03, 2021</span></td>, <td class=\"Py(10px) Pstart(10px)\" data-reactid=\"204\"><span data-reactid=\"205\">3,484.73</span></td>, <td class=\"Py(10px) Pstart(10px)\" data-reactid=\"206\"><span data-reactid=\"207\">3,486.65</span></td>, <td class=\"Py(10px) Pstart(10px)\" data-reactid=\"208\"><span data-reactid=\"209\">3,372.70</span></td>, <td class=\"Py(10px) Pstart(10px)\" data-reactid=\"210\"><span data-reactid=\"211\">3,386.49</span></td>, <td class=\"Py(10px) Pstart(10px)\" data-reactid=\"212\"><span data-reactid=\"213\">3,386.49</span></td>, <td class=\"Py(10px) Pstart(10px)\" data-reactid=\"214\"><span data-reactid=\"215\">5,875,500</span></td>]\n",
      "[<td class=\"Py(10px) Ta(start) Pend(10px)\" data-reactid=\"217\"><span data-reactid=\"218\">Apr 30, 2021</span></td>, <td class=\"Py(10px) Pstart(10px)\" data-reactid=\"219\"><span data-reactid=\"220\">3,525.12</span></td>, <td class=\"Py(10px) Pstart(10px)\" data-reactid=\"221\"><span data-reactid=\"222\">3,554.00</span></td>, <td class=\"Py(10px) Pstart(10px)\" data-reactid=\"223\"><span data-reactid=\"224\">3,462.50</span></td>, <td class=\"Py(10px) Pstart(10px)\" data-reactid=\"225\"><span data-reactid=\"226\">3,467.42</span></td>, <td class=\"Py(10px) Pstart(10px)\" data-reactid=\"227\"><span data-reactid=\"228\">3,467.42</span></td>, <td class=\"Py(10px) Pstart(10px)\" data-reactid=\"229\"><span data-reactid=\"230\">7,001,800</span></td>]\n",
      "[<td class=\"Py(10px) Ta(start) Pend(10px)\" data-reactid=\"232\"><span data-reactid=\"233\">Apr 29, 2021</span></td>, <td class=\"Py(10px) Pstart(10px)\" data-reactid=\"234\"><span data-reactid=\"235\">3,505.10</span></td>, <td class=\"Py(10px) Pstart(10px)\" data-reactid=\"236\"><span data-reactid=\"237\">3,514.45</span></td>, <td class=\"Py(10px) Pstart(10px)\" data-reactid=\"238\"><span data-reactid=\"239\">3,435.00</span></td>, <td class=\"Py(10px) Pstart(10px)\" data-reactid=\"240\"><span data-reactid=\"241\">3,471.31</span></td>, <td class=\"Py(10px) Pstart(10px)\" data-reactid=\"242\"><span data-reactid=\"243\">3,471.31</span></td>, <td class=\"Py(10px) Pstart(10px)\" data-reactid=\"244\"><span data-reactid=\"245\">7,682,400</span></td>]\n",
      "[<td class=\"Py(10px) Ta(start) Pend(10px)\" data-reactid=\"247\"><span data-reactid=\"248\">Apr 28, 2021</span></td>, <td class=\"Py(10px) Pstart(10px)\" data-reactid=\"249\"><span data-reactid=\"250\">3,434.80</span></td>, <td class=\"Py(10px) Pstart(10px)\" data-reactid=\"251\"><span data-reactid=\"252\">3,489.88</span></td>, <td class=\"Py(10px) Pstart(10px)\" data-reactid=\"253\"><span data-reactid=\"254\">3,425.00</span></td>, <td class=\"Py(10px) Pstart(10px)\" data-reactid=\"255\"><span data-reactid=\"256\">3,458.50</span></td>, <td class=\"Py(10px) Pstart(10px)\" data-reactid=\"257\"><span data-reactid=\"258\">3,458.50</span></td>, <td class=\"Py(10px) Pstart(10px)\" data-reactid=\"259\"><span data-reactid=\"260\">4,631,900</span></td>]\n",
      "[<td class=\"Py(10px) Ta(start) Pend(10px)\" data-reactid=\"262\"><span data-reactid=\"263\">Apr 27, 2021</span></td>, <td class=\"Py(10px) Pstart(10px)\" data-reactid=\"264\"><span data-reactid=\"265\">3,443.47</span></td>, <td class=\"Py(10px) Pstart(10px)\" data-reactid=\"266\"><span data-reactid=\"267\">3,460.00</span></td>, <td class=\"Py(10px) Pstart(10px)\" data-reactid=\"268\"><span data-reactid=\"269\">3,398.01</span></td>, <td class=\"Py(10px) Pstart(10px)\" data-reactid=\"270\"><span data-reactid=\"271\">3,417.43</span></td>, <td class=\"Py(10px) Pstart(10px)\" data-reactid=\"272\"><span data-reactid=\"273\">3,417.43</span></td>, <td class=\"Py(10px) Pstart(10px)\" data-reactid=\"274\"><span data-reactid=\"275\">3,827,100</span></td>]\n",
      "[<td class=\"Py(10px) Ta(start) Pend(10px)\" data-reactid=\"277\"><span data-reactid=\"278\">Apr 26, 2021</span></td>, <td class=\"Py(10px) Pstart(10px)\" data-reactid=\"279\"><span data-reactid=\"280\">3,348.00</span></td>, <td class=\"Py(10px) Pstart(10px)\" data-reactid=\"281\"><span data-reactid=\"282\">3,428.45</span></td>, <td class=\"Py(10px) Pstart(10px)\" data-reactid=\"283\"><span data-reactid=\"284\">3,330.94</span></td>, <td class=\"Py(10px) Pstart(10px)\" data-reactid=\"285\"><span data-reactid=\"286\">3,409.00</span></td>, <td class=\"Py(10px) Pstart(10px)\" data-reactid=\"287\"><span data-reactid=\"288\">3,409.00</span></td>, <td class=\"Py(10px) Pstart(10px)\" data-reactid=\"289\"><span data-reactid=\"290\">4,880,700</span></td>]\n",
      "[<td class=\"Py(10px) Ta(start) Pend(10px)\" data-reactid=\"292\"><span data-reactid=\"293\">Apr 23, 2021</span></td>, <td class=\"Py(10px) Pstart(10px)\" data-reactid=\"294\"><span data-reactid=\"295\">3,319.10</span></td>, <td class=\"Py(10px) Pstart(10px)\" data-reactid=\"296\"><span data-reactid=\"297\">3,375.00</span></td>, <td class=\"Py(10px) Pstart(10px)\" data-reactid=\"298\"><span data-reactid=\"299\">3,308.50</span></td>, <td class=\"Py(10px) Pstart(10px)\" data-reactid=\"300\"><span data-reactid=\"301\">3,340.88</span></td>, <td class=\"Py(10px) Pstart(10px)\" data-reactid=\"302\"><span data-reactid=\"303\">3,340.88</span></td>, <td class=\"Py(10px) Pstart(10px)\" data-reactid=\"304\"><span data-reactid=\"305\">3,192,800</span></td>]\n",
      "[<td class=\"Py(10px) Ta(start) Pend(10px)\" data-reactid=\"307\"><span data-reactid=\"308\">Apr 22, 2021</span></td>, <td class=\"Py(10px) Pstart(10px)\" data-reactid=\"309\"><span data-reactid=\"310\">3,371.68</span></td>, <td class=\"Py(10px) Pstart(10px)\" data-reactid=\"311\"><span data-reactid=\"312\">3,372.87</span></td>, <td class=\"Py(10px) Pstart(10px)\" data-reactid=\"313\"><span data-reactid=\"314\">3,301.45</span></td>, <td class=\"Py(10px) Pstart(10px)\" data-reactid=\"315\"><span data-reactid=\"316\">3,309.04</span></td>, <td class=\"Py(10px) Pstart(10px)\" data-reactid=\"317\"><span data-reactid=\"318\">3,309.04</span></td>, <td class=\"Py(10px) Pstart(10px)\" data-reactid=\"319\"><span data-reactid=\"320\">2,580,600</span></td>]\n",
      "[<td class=\"Py(10px) Ta(start) Pend(10px)\" data-reactid=\"322\"><span data-reactid=\"323\">Apr 21, 2021</span></td>, <td class=\"Py(10px) Pstart(10px)\" data-reactid=\"324\"><span data-reactid=\"325\">3,316.00</span></td>, <td class=\"Py(10px) Pstart(10px)\" data-reactid=\"326\"><span data-reactid=\"327\">3,362.86</span></td>, <td class=\"Py(10px) Pstart(10px)\" data-reactid=\"328\"><span data-reactid=\"329\">3,303.81</span></td>, <td class=\"Py(10px) Pstart(10px)\" data-reactid=\"330\"><span data-reactid=\"331\">3,362.02</span></td>, <td class=\"Py(10px) Pstart(10px)\" data-reactid=\"332\"><span data-reactid=\"333\">3,362.02</span></td>, <td class=\"Py(10px) Pstart(10px)\" data-reactid=\"334\"><span data-reactid=\"335\">2,211,200</span></td>]\n",
      "[<td class=\"Py(10px) Ta(start) Pend(10px)\" data-reactid=\"337\"><span data-reactid=\"338\">Apr 20, 2021</span></td>, <td class=\"Py(10px) Pstart(10px)\" data-reactid=\"339\"><span data-reactid=\"340\">3,373.60</span></td>, <td class=\"Py(10px) Pstart(10px)\" data-reactid=\"341\"><span data-reactid=\"342\">3,382.99</span></td>, <td class=\"Py(10px) Pstart(10px)\" data-reactid=\"343\"><span data-reactid=\"344\">3,316.00</span></td>, <td class=\"Py(10px) Pstart(10px)\" data-reactid=\"345\"><span data-reactid=\"346\">3,334.69</span></td>, <td class=\"Py(10px) Pstart(10px)\" data-reactid=\"347\"><span data-reactid=\"348\">3,334.69</span></td>, <td class=\"Py(10px) Pstart(10px)\" data-reactid=\"349\"><span data-reactid=\"350\">2,623,000</span></td>]\n",
      "[<td class=\"Py(10px) Ta(start) Pend(10px)\" data-reactid=\"352\"><span data-reactid=\"353\">Apr 19, 2021</span></td>, <td class=\"Py(10px) Pstart(10px)\" data-reactid=\"354\"><span data-reactid=\"355\">3,390.33</span></td>, <td class=\"Py(10px) Pstart(10px)\" data-reactid=\"356\"><span data-reactid=\"357\">3,435.93</span></td>, <td class=\"Py(10px) Pstart(10px)\" data-reactid=\"358\"><span data-reactid=\"359\">3,360.16</span></td>, <td class=\"Py(10px) Pstart(10px)\" data-reactid=\"360\"><span data-reactid=\"361\">3,372.01</span></td>, <td class=\"Py(10px) Pstart(10px)\" data-reactid=\"362\"><span data-reactid=\"363\">3,372.01</span></td>, <td class=\"Py(10px) Pstart(10px)\" data-reactid=\"364\"><span data-reactid=\"365\">2,725,400</span></td>]\n",
      "[<td class=\"Py(10px) Ta(start) Pend(10px)\" data-reactid=\"367\"><span data-reactid=\"368\">Apr 16, 2021</span></td>, <td class=\"Py(10px) Pstart(10px)\" data-reactid=\"369\"><span data-reactid=\"370\">3,380.00</span></td>, <td class=\"Py(10px) Pstart(10px)\" data-reactid=\"371\"><span data-reactid=\"372\">3,406.80</span></td>, <td class=\"Py(10px) Pstart(10px)\" data-reactid=\"373\"><span data-reactid=\"374\">3,355.59</span></td>, <td class=\"Py(10px) Pstart(10px)\" data-reactid=\"375\"><span data-reactid=\"376\">3,399.44</span></td>, <td class=\"Py(10px) Pstart(10px)\" data-reactid=\"377\"><span data-reactid=\"378\">3,399.44</span></td>, <td class=\"Py(10px) Pstart(10px)\" data-reactid=\"379\"><span data-reactid=\"380\">3,186,000</span></td>]\n",
      "[<td class=\"Py(10px) Ta(start) Pend(10px)\" data-reactid=\"382\"><span data-reactid=\"383\">Apr 15, 2021</span></td>, <td class=\"Py(10px) Pstart(10px)\" data-reactid=\"384\"><span data-reactid=\"385\">3,371.00</span></td>, <td class=\"Py(10px) Pstart(10px)\" data-reactid=\"386\"><span data-reactid=\"387\">3,397.00</span></td>, <td class=\"Py(10px) Pstart(10px)\" data-reactid=\"388\"><span data-reactid=\"389\">3,352.00</span></td>, <td class=\"Py(10px) Pstart(10px)\" data-reactid=\"390\"><span data-reactid=\"391\">3,379.09</span></td>, <td class=\"Py(10px) Pstart(10px)\" data-reactid=\"392\"><span data-reactid=\"393\">3,379.09</span></td>, <td class=\"Py(10px) Pstart(10px)\" data-reactid=\"394\"><span data-reactid=\"395\">3,233,600</span></td>]\n",
      "[<td class=\"Py(10px) Ta(start) Pend(10px)\" data-reactid=\"397\"><span data-reactid=\"398\">Apr 14, 2021</span></td>, <td class=\"Py(10px) Pstart(10px)\" data-reactid=\"399\"><span data-reactid=\"400\">3,404.04</span></td>, <td class=\"Py(10px) Pstart(10px)\" data-reactid=\"401\"><span data-reactid=\"402\">3,404.13</span></td>, <td class=\"Py(10px) Pstart(10px)\" data-reactid=\"403\"><span data-reactid=\"404\">3,326.00</span></td>, <td class=\"Py(10px) Pstart(10px)\" data-reactid=\"405\"><span data-reactid=\"406\">3,333.00</span></td>, <td class=\"Py(10px) Pstart(10px)\" data-reactid=\"407\"><span data-reactid=\"408\">3,333.00</span></td>, <td class=\"Py(10px) Pstart(10px)\" data-reactid=\"409\"><span data-reactid=\"410\">3,145,200</span></td>]\n",
      "[<td class=\"Py(10px) Ta(start) Pend(10px)\" data-reactid=\"412\"><span data-reactid=\"413\">Apr 13, 2021</span></td>, <td class=\"Py(10px) Pstart(10px)\" data-reactid=\"414\"><span data-reactid=\"415\">3,400.85</span></td>, <td class=\"Py(10px) Pstart(10px)\" data-reactid=\"416\"><span data-reactid=\"417\">3,432.00</span></td>, <td class=\"Py(10px) Pstart(10px)\" data-reactid=\"418\"><span data-reactid=\"419\">3,395.63</span></td>, <td class=\"Py(10px) Pstart(10px)\" data-reactid=\"420\"><span data-reactid=\"421\">3,400.00</span></td>, <td class=\"Py(10px) Pstart(10px)\" data-reactid=\"422\"><span data-reactid=\"423\">3,400.00</span></td>, <td class=\"Py(10px) Pstart(10px)\" data-reactid=\"424\"><span data-reactid=\"425\">3,315,800</span></td>]\n",
      "[<td class=\"Py(10px) Ta(start) Pend(10px)\" data-reactid=\"427\"><span data-reactid=\"428\">Apr 12, 2021</span></td>, <td class=\"Py(10px) Pstart(10px)\" data-reactid=\"429\"><span data-reactid=\"430\">3,355.21</span></td>, <td class=\"Py(10px) Pstart(10px)\" data-reactid=\"431\"><span data-reactid=\"432\">3,395.04</span></td>, <td class=\"Py(10px) Pstart(10px)\" data-reactid=\"433\"><span data-reactid=\"434\">3,351.15</span></td>, <td class=\"Py(10px) Pstart(10px)\" data-reactid=\"435\"><span data-reactid=\"436\">3,379.39</span></td>, <td class=\"Py(10px) Pstart(10px)\" data-reactid=\"437\"><span data-reactid=\"438\">3,379.39</span></td>, <td class=\"Py(10px) Pstart(10px)\" data-reactid=\"439\"><span data-reactid=\"440\">3,281,800</span></td>]\n",
      "[<td class=\"Py(10px) Ta(start) Pend(10px)\" data-reactid=\"442\"><span data-reactid=\"443\">Apr 09, 2021</span></td>, <td class=\"Py(10px) Pstart(10px)\" data-reactid=\"444\"><span data-reactid=\"445\">3,304.70</span></td>, <td class=\"Py(10px) Pstart(10px)\" data-reactid=\"446\"><span data-reactid=\"447\">3,372.20</span></td>, <td class=\"Py(10px) Pstart(10px)\" data-reactid=\"448\"><span data-reactid=\"449\">3,288.90</span></td>, <td class=\"Py(10px) Pstart(10px)\" data-reactid=\"450\"><span data-reactid=\"451\">3,372.20</span></td>, <td class=\"Py(10px) Pstart(10px)\" data-reactid=\"452\"><span data-reactid=\"453\">3,372.20</span></td>, <td class=\"Py(10px) Pstart(10px)\" data-reactid=\"454\"><span data-reactid=\"455\">4,341,500</span></td>]\n",
      "[<td class=\"Py(10px) Ta(start) Pend(10px)\" data-reactid=\"457\"><span data-reactid=\"458\">Apr 08, 2021</span></td>, <td class=\"Py(10px) Pstart(10px)\" data-reactid=\"459\"><span data-reactid=\"460\">3,310.90</span></td>, <td class=\"Py(10px) Pstart(10px)\" data-reactid=\"461\"><span data-reactid=\"462\">3,324.50</span></td>, <td class=\"Py(10px) Pstart(10px)\" data-reactid=\"463\"><span data-reactid=\"464\">3,292.00</span></td>, <td class=\"Py(10px) Pstart(10px)\" data-reactid=\"465\"><span data-reactid=\"466\">3,299.30</span></td>, <td class=\"Py(10px) Pstart(10px)\" data-reactid=\"467\"><span data-reactid=\"468\">3,299.30</span></td>, <td class=\"Py(10px) Pstart(10px)\" data-reactid=\"469\"><span data-reactid=\"470\">2,812,100</span></td>]\n",
      "[<td class=\"Py(10px) Ta(start) Pend(10px)\" data-reactid=\"472\"><span data-reactid=\"473\">Apr 07, 2021</span></td>, <td class=\"Py(10px) Pstart(10px)\" data-reactid=\"474\"><span data-reactid=\"475\">3,233.80</span></td>, <td class=\"Py(10px) Pstart(10px)\" data-reactid=\"476\"><span data-reactid=\"477\">3,303.61</span></td>, <td class=\"Py(10px) Pstart(10px)\" data-reactid=\"478\"><span data-reactid=\"479\">3,223.65</span></td>, <td class=\"Py(10px) Pstart(10px)\" data-reactid=\"480\"><span data-reactid=\"481\">3,279.39</span></td>, <td class=\"Py(10px) Pstart(10px)\" data-reactid=\"482\"><span data-reactid=\"483\">3,279.39</span></td>, <td class=\"Py(10px) Pstart(10px)\" data-reactid=\"484\"><span data-reactid=\"485\">3,346,200</span></td>]\n",
      "[<td class=\"Py(10px) Ta(start) Pend(10px)\" data-reactid=\"487\"><span data-reactid=\"488\">Apr 06, 2021</span></td>, <td class=\"Py(10px) Pstart(10px)\" data-reactid=\"489\"><span data-reactid=\"490\">3,223.75</span></td>, <td class=\"Py(10px) Pstart(10px)\" data-reactid=\"491\"><span data-reactid=\"492\">3,247.31</span></td>, <td class=\"Py(10px) Pstart(10px)\" data-reactid=\"493\"><span data-reactid=\"494\">3,217.04</span></td>, <td class=\"Py(10px) Pstart(10px)\" data-reactid=\"495\"><span data-reactid=\"496\">3,223.82</span></td>, <td class=\"Py(10px) Pstart(10px)\" data-reactid=\"497\"><span data-reactid=\"498\">3,223.82</span></td>, <td class=\"Py(10px) Pstart(10px)\" data-reactid=\"499\"><span data-reactid=\"500\">2,537,800</span></td>]\n",
      "[<td class=\"Py(10px) Ta(start) Pend(10px)\" data-reactid=\"502\"><span data-reactid=\"503\">Apr 05, 2021</span></td>, <td class=\"Py(10px) Pstart(10px)\" data-reactid=\"504\"><span data-reactid=\"505\">3,173.00</span></td>, <td class=\"Py(10px) Pstart(10px)\" data-reactid=\"506\"><span data-reactid=\"507\">3,235.96</span></td>, <td class=\"Py(10px) Pstart(10px)\" data-reactid=\"508\"><span data-reactid=\"509\">3,161.24</span></td>, <td class=\"Py(10px) Pstart(10px)\" data-reactid=\"510\"><span data-reactid=\"511\">3,226.73</span></td>, <td class=\"Py(10px) Pstart(10px)\" data-reactid=\"512\"><span data-reactid=\"513\">3,226.73</span></td>, <td class=\"Py(10px) Pstart(10px)\" data-reactid=\"514\"><span data-reactid=\"515\">3,334,900</span></td>]\n",
      "[<td class=\"Py(10px) Ta(start) Pend(10px)\" data-reactid=\"517\"><span data-reactid=\"518\">Apr 01, 2021</span></td>, <td class=\"Py(10px) Pstart(10px)\" data-reactid=\"519\"><span data-reactid=\"520\">3,117.94</span></td>, <td class=\"Py(10px) Pstart(10px)\" data-reactid=\"521\"><span data-reactid=\"522\">3,162.44</span></td>, <td class=\"Py(10px) Pstart(10px)\" data-reactid=\"523\"><span data-reactid=\"524\">3,115.55</span></td>, <td class=\"Py(10px) Pstart(10px)\" data-reactid=\"525\"><span data-reactid=\"526\">3,161.00</span></td>, <td class=\"Py(10px) Pstart(10px)\" data-reactid=\"527\"><span data-reactid=\"528\">3,161.00</span></td>, <td class=\"Py(10px) Pstart(10px)\" data-reactid=\"529\"><span data-reactid=\"530\">2,940,300</span></td>]\n",
      "[<td class=\"Py(10px) Ta(start) Pend(10px)\" data-reactid=\"532\"><span data-reactid=\"533\">Mar 31, 2021</span></td>, <td class=\"Py(10px) Pstart(10px)\" data-reactid=\"534\"><span data-reactid=\"535\">3,064.06</span></td>, <td class=\"Py(10px) Pstart(10px)\" data-reactid=\"536\"><span data-reactid=\"537\">3,119.33</span></td>, <td class=\"Py(10px) Pstart(10px)\" data-reactid=\"538\"><span data-reactid=\"539\">3,062.50</span></td>, <td class=\"Py(10px) Pstart(10px)\" data-reactid=\"540\"><span data-reactid=\"541\">3,094.08</span></td>, <td class=\"Py(10px) Pstart(10px)\" data-reactid=\"542\"><span data-reactid=\"543\">3,094.08</span></td>, <td class=\"Py(10px) Pstart(10px)\" data-reactid=\"544\"><span data-reactid=\"545\">3,093,900</span></td>]\n",
      "[<td class=\"Py(10px) Ta(start) Pend(10px)\" data-reactid=\"547\"><span data-reactid=\"548\">Mar 30, 2021</span></td>, <td class=\"Py(10px) Pstart(10px)\" data-reactid=\"549\"><span data-reactid=\"550\">3,070.01</span></td>, <td class=\"Py(10px) Pstart(10px)\" data-reactid=\"551\"><span data-reactid=\"552\">3,073.00</span></td>, <td class=\"Py(10px) Pstart(10px)\" data-reactid=\"553\"><span data-reactid=\"554\">3,034.00</span></td>, <td class=\"Py(10px) Pstart(10px)\" data-reactid=\"555\"><span data-reactid=\"556\">3,055.29</span></td>, <td class=\"Py(10px) Pstart(10px)\" data-reactid=\"557\"><span data-reactid=\"558\">3,055.29</span></td>, <td class=\"Py(10px) Pstart(10px)\" data-reactid=\"559\"><span data-reactid=\"560\">2,337,600</span></td>]\n",
      "[<td class=\"Py(10px) Ta(start) Pend(10px)\" data-reactid=\"562\"><span data-reactid=\"563\">Mar 29, 2021</span></td>, <td class=\"Py(10px) Pstart(10px)\" data-reactid=\"564\"><span data-reactid=\"565\">3,055.44</span></td>, <td class=\"Py(10px) Pstart(10px)\" data-reactid=\"566\"><span data-reactid=\"567\">3,091.25</span></td>, <td class=\"Py(10px) Pstart(10px)\" data-reactid=\"568\"><span data-reactid=\"569\">3,028.45</span></td>, <td class=\"Py(10px) Pstart(10px)\" data-reactid=\"570\"><span data-reactid=\"571\">3,075.73</span></td>, <td class=\"Py(10px) Pstart(10px)\" data-reactid=\"572\"><span data-reactid=\"573\">3,075.73</span></td>, <td class=\"Py(10px) Pstart(10px)\" data-reactid=\"574\"><span data-reactid=\"575\">2,746,000</span></td>]\n",
      "[<td class=\"Py(10px) Ta(start) Pend(10px)\" data-reactid=\"577\"><span data-reactid=\"578\">Mar 26, 2021</span></td>, <td class=\"Py(10px) Pstart(10px)\" data-reactid=\"579\"><span data-reactid=\"580\">3,044.06</span></td>, <td class=\"Py(10px) Pstart(10px)\" data-reactid=\"581\"><span data-reactid=\"582\">3,056.66</span></td>, <td class=\"Py(10px) Pstart(10px)\" data-reactid=\"583\"><span data-reactid=\"584\">2,996.00</span></td>, <td class=\"Py(10px) Pstart(10px)\" data-reactid=\"585\"><span data-reactid=\"586\">3,052.03</span></td>, <td class=\"Py(10px) Pstart(10px)\" data-reactid=\"587\"><span data-reactid=\"588\">3,052.03</span></td>, <td class=\"Py(10px) Pstart(10px)\" data-reactid=\"589\"><span data-reactid=\"590\">3,312,900</span></td>]\n",
      "[<td class=\"Py(10px) Ta(start) Pend(10px)\" data-reactid=\"592\"><span data-reactid=\"593\">Mar 25, 2021</span></td>, <td class=\"Py(10px) Pstart(10px)\" data-reactid=\"594\"><span data-reactid=\"595\">3,072.99</span></td>, <td class=\"Py(10px) Pstart(10px)\" data-reactid=\"596\"><span data-reactid=\"597\">3,109.78</span></td>, <td class=\"Py(10px) Pstart(10px)\" data-reactid=\"598\"><span data-reactid=\"599\">3,037.14</span></td>, <td class=\"Py(10px) Pstart(10px)\" data-reactid=\"600\"><span data-reactid=\"601\">3,046.26</span></td>, <td class=\"Py(10px) Pstart(10px)\" data-reactid=\"602\"><span data-reactid=\"603\">3,046.26</span></td>, <td class=\"Py(10px) Pstart(10px)\" data-reactid=\"604\"><span data-reactid=\"605\">3,563,500</span></td>]\n",
      "[<td class=\"Py(10px) Ta(start) Pend(10px)\" data-reactid=\"607\"><span data-reactid=\"608\">Mar 24, 2021</span></td>, <td class=\"Py(10px) Pstart(10px)\" data-reactid=\"609\"><span data-reactid=\"610\">3,151.04</span></td>, <td class=\"Py(10px) Pstart(10px)\" data-reactid=\"611\"><span data-reactid=\"612\">3,160.31</span></td>, <td class=\"Py(10px) Pstart(10px)\" data-reactid=\"613\"><span data-reactid=\"614\">3,085.15</span></td>, <td class=\"Py(10px) Pstart(10px)\" data-reactid=\"615\"><span data-reactid=\"616\">3,087.07</span></td>, <td class=\"Py(10px) Pstart(10px)\" data-reactid=\"617\"><span data-reactid=\"618\">3,087.07</span></td>, <td class=\"Py(10px) Pstart(10px)\" data-reactid=\"619\"><span data-reactid=\"620\">2,959,000</span></td>]\n",
      "[<td class=\"Py(10px) Ta(start) Pend(10px)\" data-reactid=\"622\"><span data-reactid=\"623\">Mar 23, 2021</span></td>, <td class=\"Py(10px) Pstart(10px)\" data-reactid=\"624\"><span data-reactid=\"625\">3,127.00</span></td>, <td class=\"Py(10px) Pstart(10px)\" data-reactid=\"626\"><span data-reactid=\"627\">3,182.00</span></td>, <td class=\"Py(10px) Pstart(10px)\" data-reactid=\"628\"><span data-reactid=\"629\">3,120.85</span></td>, <td class=\"Py(10px) Pstart(10px)\" data-reactid=\"630\"><span data-reactid=\"631\">3,137.50</span></td>, <td class=\"Py(10px) Pstart(10px)\" data-reactid=\"632\"><span data-reactid=\"633\">3,137.50</span></td>, <td class=\"Py(10px) Pstart(10px)\" data-reactid=\"634\"><span data-reactid=\"635\">3,817,300</span></td>]\n",
      "[<td class=\"Py(10px) Ta(start) Pend(10px)\" data-reactid=\"637\"><span data-reactid=\"638\">Mar 22, 2021</span></td>, <td class=\"Py(10px) Pstart(10px)\" data-reactid=\"639\"><span data-reactid=\"640\">3,067.85</span></td>, <td class=\"Py(10px) Pstart(10px)\" data-reactid=\"641\"><span data-reactid=\"642\">3,126.58</span></td>, <td class=\"Py(10px) Pstart(10px)\" data-reactid=\"643\"><span data-reactid=\"644\">3,060.05</span></td>, <td class=\"Py(10px) Pstart(10px)\" data-reactid=\"645\"><span data-reactid=\"646\">3,110.87</span></td>, <td class=\"Py(10px) Pstart(10px)\" data-reactid=\"647\"><span data-reactid=\"648\">3,110.87</span></td>, <td class=\"Py(10px) Pstart(10px)\" data-reactid=\"649\"><span data-reactid=\"650\">2,902,200</span></td>]\n",
      "[<td class=\"Py(10px) Ta(start) Pend(10px)\" data-reactid=\"652\"><span data-reactid=\"653\">Mar 19, 2021</span></td>, <td class=\"Py(10px) Pstart(10px)\" data-reactid=\"654\"><span data-reactid=\"655\">3,029.23</span></td>, <td class=\"Py(10px) Pstart(10px)\" data-reactid=\"656\"><span data-reactid=\"657\">3,077.29</span></td>, <td class=\"Py(10px) Pstart(10px)\" data-reactid=\"658\"><span data-reactid=\"659\">3,016.63</span></td>, <td class=\"Py(10px) Pstart(10px)\" data-reactid=\"660\"><span data-reactid=\"661\">3,074.96</span></td>, <td class=\"Py(10px) Pstart(10px)\" data-reactid=\"662\"><span data-reactid=\"663\">3,074.96</span></td>, <td class=\"Py(10px) Pstart(10px)\" data-reactid=\"664\"><span data-reactid=\"665\">4,625,400</span></td>]\n",
      "[<td class=\"Py(10px) Ta(start) Pend(10px)\" data-reactid=\"667\"><span data-reactid=\"668\">Mar 18, 2021</span></td>, <td class=\"Py(10px) Pstart(10px)\" data-reactid=\"669\"><span data-reactid=\"670\">3,101.00</span></td>, <td class=\"Py(10px) Pstart(10px)\" data-reactid=\"671\"><span data-reactid=\"672\">3,116.63</span></td>, <td class=\"Py(10px) Pstart(10px)\" data-reactid=\"673\"><span data-reactid=\"674\">3,025.00</span></td>, <td class=\"Py(10px) Pstart(10px)\" data-reactid=\"675\"><span data-reactid=\"676\">3,027.99</span></td>, <td class=\"Py(10px) Pstart(10px)\" data-reactid=\"677\"><span data-reactid=\"678\">3,027.99</span></td>, <td class=\"Py(10px) Pstart(10px)\" data-reactid=\"679\"><span data-reactid=\"680\">3,649,600</span></td>]\n",
      "[<td class=\"Py(10px) Ta(start) Pend(10px)\" data-reactid=\"682\"><span data-reactid=\"683\">Mar 17, 2021</span></td>, <td class=\"Py(10px) Pstart(10px)\" data-reactid=\"684\"><span data-reactid=\"685\">3,073.22</span></td>, <td class=\"Py(10px) Pstart(10px)\" data-reactid=\"686\"><span data-reactid=\"687\">3,173.05</span></td>, <td class=\"Py(10px) Pstart(10px)\" data-reactid=\"688\"><span data-reactid=\"689\">3,070.22</span></td>, <td class=\"Py(10px) Pstart(10px)\" data-reactid=\"690\"><span data-reactid=\"691\">3,135.73</span></td>, <td class=\"Py(10px) Pstart(10px)\" data-reactid=\"692\"><span data-reactid=\"693\">3,135.73</span></td>, <td class=\"Py(10px) Pstart(10px)\" data-reactid=\"694\"><span data-reactid=\"695\">3,118,600</span></td>]\n",
      "[<td class=\"Py(10px) Ta(start) Pend(10px)\" data-reactid=\"697\"><span data-reactid=\"698\">Mar 16, 2021</span></td>, <td class=\"Py(10px) Pstart(10px)\" data-reactid=\"699\"><span data-reactid=\"700\">3,104.97</span></td>, <td class=\"Py(10px) Pstart(10px)\" data-reactid=\"701\"><span data-reactid=\"702\">3,128.91</span></td>, <td class=\"Py(10px) Pstart(10px)\" data-reactid=\"703\"><span data-reactid=\"704\">3,075.86</span></td>, <td class=\"Py(10px) Pstart(10px)\" data-reactid=\"705\"><span data-reactid=\"706\">3,091.86</span></td>, <td class=\"Py(10px) Pstart(10px)\" data-reactid=\"707\"><span data-reactid=\"708\">3,091.86</span></td>, <td class=\"Py(10px) Pstart(10px)\" data-reactid=\"709\"><span data-reactid=\"710\">2,538,800</span></td>]\n",
      "[<td class=\"Py(10px) Ta(start) Pend(10px)\" data-reactid=\"712\"><span data-reactid=\"713\">Mar 15, 2021</span></td>, <td class=\"Py(10px) Pstart(10px)\" data-reactid=\"714\"><span data-reactid=\"715\">3,074.57</span></td>, <td class=\"Py(10px) Pstart(10px)\" data-reactid=\"716\"><span data-reactid=\"717\">3,082.24</span></td>, <td class=\"Py(10px) Pstart(10px)\" data-reactid=\"718\"><span data-reactid=\"719\">3,032.09</span></td>, <td class=\"Py(10px) Pstart(10px)\" data-reactid=\"720\"><span data-reactid=\"721\">3,081.68</span></td>, <td class=\"Py(10px) Pstart(10px)\" data-reactid=\"722\"><span data-reactid=\"723\">3,081.68</span></td>, <td class=\"Py(10px) Pstart(10px)\" data-reactid=\"724\"><span data-reactid=\"725\">2,913,600</span></td>]\n",
      "[<td class=\"Py(10px) Ta(start) Pend(10px)\" data-reactid=\"727\"><span data-reactid=\"728\">Mar 12, 2021</span></td>, <td class=\"Py(10px) Pstart(10px)\" data-reactid=\"729\"><span data-reactid=\"730\">3,075.00</span></td>, <td class=\"Py(10px) Pstart(10px)\" data-reactid=\"731\"><span data-reactid=\"732\">3,098.98</span></td>, <td class=\"Py(10px) Pstart(10px)\" data-reactid=\"733\"><span data-reactid=\"734\">3,045.50</span></td>, <td class=\"Py(10px) Pstart(10px)\" data-reactid=\"735\"><span data-reactid=\"736\">3,089.49</span></td>, <td class=\"Py(10px) Pstart(10px)\" data-reactid=\"737\"><span data-reactid=\"738\">3,089.49</span></td>, <td class=\"Py(10px) Pstart(10px)\" data-reactid=\"739\"><span data-reactid=\"740\">2,421,900</span></td>]\n",
      "[<td class=\"Py(10px) Ta(start) Pend(10px)\" data-reactid=\"742\"><span data-reactid=\"743\">Mar 11, 2021</span></td>, <td class=\"Py(10px) Pstart(10px)\" data-reactid=\"744\"><span data-reactid=\"745\">3,104.01</span></td>, <td class=\"Py(10px) Pstart(10px)\" data-reactid=\"746\"><span data-reactid=\"747\">3,131.78</span></td>, <td class=\"Py(10px) Pstart(10px)\" data-reactid=\"748\"><span data-reactid=\"749\">3,082.93</span></td>, <td class=\"Py(10px) Pstart(10px)\" data-reactid=\"750\"><span data-reactid=\"751\">3,113.59</span></td>, <td class=\"Py(10px) Pstart(10px)\" data-reactid=\"752\"><span data-reactid=\"753\">3,113.59</span></td>, <td class=\"Py(10px) Pstart(10px)\" data-reactid=\"754\"><span data-reactid=\"755\">2,776,400</span></td>]\n",
      "[<td class=\"Py(10px) Ta(start) Pend(10px)\" data-reactid=\"757\"><span data-reactid=\"758\">Mar 10, 2021</span></td>, <td class=\"Py(10px) Pstart(10px)\" data-reactid=\"759\"><span data-reactid=\"760\">3,098.45</span></td>, <td class=\"Py(10px) Pstart(10px)\" data-reactid=\"761\"><span data-reactid=\"762\">3,116.46</span></td>, <td class=\"Py(10px) Pstart(10px)\" data-reactid=\"763\"><span data-reactid=\"764\">3,030.05</span></td>, <td class=\"Py(10px) Pstart(10px)\" data-reactid=\"765\"><span data-reactid=\"766\">3,057.64</span></td>, <td class=\"Py(10px) Pstart(10px)\" data-reactid=\"767\"><span data-reactid=\"768\">3,057.64</span></td>, <td class=\"Py(10px) Pstart(10px)\" data-reactid=\"769\"><span data-reactid=\"770\">3,012,500</span></td>]\n",
      "[<td class=\"Py(10px) Ta(start) Pend(10px)\" data-reactid=\"772\"><span data-reactid=\"773\">Mar 09, 2021</span></td>, <td class=\"Py(10px) Pstart(10px)\" data-reactid=\"774\"><span data-reactid=\"775\">3,017.99</span></td>, <td class=\"Py(10px) Pstart(10px)\" data-reactid=\"776\"><span data-reactid=\"777\">3,090.96</span></td>, <td class=\"Py(10px) Pstart(10px)\" data-reactid=\"778\"><span data-reactid=\"779\">3,005.15</span></td>, <td class=\"Py(10px) Pstart(10px)\" data-reactid=\"780\"><span data-reactid=\"781\">3,062.85</span></td>, <td class=\"Py(10px) Pstart(10px)\" data-reactid=\"782\"><span data-reactid=\"783\">3,062.85</span></td>, <td class=\"Py(10px) Pstart(10px)\" data-reactid=\"784\"><span data-reactid=\"785\">4,030,000</span></td>]\n",
      "[<td class=\"Py(10px) Ta(start) Pend(10px)\" data-reactid=\"787\"><span data-reactid=\"788\">Mar 08, 2021</span></td>, <td class=\"Py(10px) Pstart(10px)\" data-reactid=\"789\"><span data-reactid=\"790\">3,015.00</span></td>, <td class=\"Py(10px) Pstart(10px)\" data-reactid=\"791\"><span data-reactid=\"792\">3,064.59</span></td>, <td class=\"Py(10px) Pstart(10px)\" data-reactid=\"793\"><span data-reactid=\"794\">2,951.31</span></td>, <td class=\"Py(10px) Pstart(10px)\" data-reactid=\"795\"><span data-reactid=\"796\">2,951.95</span></td>, <td class=\"Py(10px) Pstart(10px)\" data-reactid=\"797\"><span data-reactid=\"798\">2,951.95</span></td>, <td class=\"Py(10px) Pstart(10px)\" data-reactid=\"799\"><span data-reactid=\"800\">4,185,000</span></td>]\n",
      "[<td class=\"Py(10px) Ta(start) Pend(10px)\" data-reactid=\"802\"><span data-reactid=\"803\">Mar 05, 2021</span></td>, <td class=\"Py(10px) Pstart(10px)\" data-reactid=\"804\"><span data-reactid=\"805\">3,005.00</span></td>, <td class=\"Py(10px) Pstart(10px)\" data-reactid=\"806\"><span data-reactid=\"807\">3,009.00</span></td>, <td class=\"Py(10px) Pstart(10px)\" data-reactid=\"808\"><span data-reactid=\"809\">2,881.00</span></td>, <td class=\"Py(10px) Pstart(10px)\" data-reactid=\"810\"><span data-reactid=\"811\">3,000.46</span></td>, <td class=\"Py(10px) Pstart(10px)\" data-reactid=\"812\"><span data-reactid=\"813\">3,000.46</span></td>, <td class=\"Py(10px) Pstart(10px)\" data-reactid=\"814\"><span data-reactid=\"815\">5,388,600</span></td>]\n",
      "[<td class=\"Py(10px) Ta(start) Pend(10px)\" data-reactid=\"817\"><span data-reactid=\"818\">Mar 04, 2021</span></td>, <td class=\"Py(10px) Pstart(10px)\" data-reactid=\"819\"><span data-reactid=\"820\">3,012.00</span></td>, <td class=\"Py(10px) Pstart(10px)\" data-reactid=\"821\"><span data-reactid=\"822\">3,058.13</span></td>, <td class=\"Py(10px) Pstart(10px)\" data-reactid=\"823\"><span data-reactid=\"824\">2,945.43</span></td>, <td class=\"Py(10px) Pstart(10px)\" data-reactid=\"825\"><span data-reactid=\"826\">2,977.57</span></td>, <td class=\"Py(10px) Pstart(10px)\" data-reactid=\"827\"><span data-reactid=\"828\">2,977.57</span></td>, <td class=\"Py(10px) Pstart(10px)\" data-reactid=\"829\"><span data-reactid=\"830\">5,481,600</span></td>]\n",
      "[<td class=\"Py(10px) Ta(start) Pend(10px)\" data-reactid=\"832\"><span data-reactid=\"833\">Mar 03, 2021</span></td>, <td class=\"Py(10px) Pstart(10px)\" data-reactid=\"834\"><span data-reactid=\"835\">3,081.18</span></td>, <td class=\"Py(10px) Pstart(10px)\" data-reactid=\"836\"><span data-reactid=\"837\">3,107.78</span></td>, <td class=\"Py(10px) Pstart(10px)\" data-reactid=\"838\"><span data-reactid=\"839\">2,995.00</span></td>, <td class=\"Py(10px) Pstart(10px)\" data-reactid=\"840\"><span data-reactid=\"841\">3,005.00</span></td>, <td class=\"Py(10px) Pstart(10px)\" data-reactid=\"842\"><span data-reactid=\"843\">3,005.00</span></td>, <td class=\"Py(10px) Pstart(10px)\" data-reactid=\"844\"><span data-reactid=\"845\">3,988,700</span></td>]\n",
      "[<td class=\"Py(10px) Ta(start) Pend(10px)\" data-reactid=\"847\"><span data-reactid=\"848\">Mar 02, 2021</span></td>, <td class=\"Py(10px) Pstart(10px)\" data-reactid=\"849\"><span data-reactid=\"850\">3,143.47</span></td>, <td class=\"Py(10px) Pstart(10px)\" data-reactid=\"851\"><span data-reactid=\"852\">3,163.52</span></td>, <td class=\"Py(10px) Pstart(10px)\" data-reactid=\"853\"><span data-reactid=\"854\">3,087.12</span></td>, <td class=\"Py(10px) Pstart(10px)\" data-reactid=\"855\"><span data-reactid=\"856\">3,094.53</span></td>, <td class=\"Py(10px) Pstart(10px)\" data-reactid=\"857\"><span data-reactid=\"858\">3,094.53</span></td>, <td class=\"Py(10px) Pstart(10px)\" data-reactid=\"859\"><span data-reactid=\"860\">2,595,800</span></td>]\n",
      "[<td class=\"Py(10px) Ta(start) Pend(10px)\" data-reactid=\"862\"><span data-reactid=\"863\">Mar 01, 2021</span></td>, <td class=\"Py(10px) Pstart(10px)\" data-reactid=\"864\"><span data-reactid=\"865\">3,127.89</span></td>, <td class=\"Py(10px) Pstart(10px)\" data-reactid=\"866\"><span data-reactid=\"867\">3,149.56</span></td>, <td class=\"Py(10px) Pstart(10px)\" data-reactid=\"868\"><span data-reactid=\"869\">3,097.99</span></td>, <td class=\"Py(10px) Pstart(10px)\" data-reactid=\"870\"><span data-reactid=\"871\">3,146.14</span></td>, <td class=\"Py(10px) Pstart(10px)\" data-reactid=\"872\"><span data-reactid=\"873\">3,146.14</span></td>, <td class=\"Py(10px) Pstart(10px)\" data-reactid=\"874\"><span data-reactid=\"875\">2,729,100</span></td>]\n",
      "[<td class=\"Py(10px) Ta(start) Pend(10px)\" data-reactid=\"877\"><span data-reactid=\"878\">Feb 26, 2021</span></td>, <td class=\"Py(10px) Pstart(10px)\" data-reactid=\"879\"><span data-reactid=\"880\">3,095.20</span></td>, <td class=\"Py(10px) Pstart(10px)\" data-reactid=\"881\"><span data-reactid=\"882\">3,122.44</span></td>, <td class=\"Py(10px) Pstart(10px)\" data-reactid=\"883\"><span data-reactid=\"884\">3,036.70</span></td>, <td class=\"Py(10px) Pstart(10px)\" data-reactid=\"885\"><span data-reactid=\"886\">3,092.93</span></td>, <td class=\"Py(10px) Pstart(10px)\" data-reactid=\"887\"><span data-reactid=\"888\">3,092.93</span></td>, <td class=\"Py(10px) Pstart(10px)\" data-reactid=\"889\"><span data-reactid=\"890\">4,275,900</span></td>]\n",
      "[<td class=\"Py(10px) Ta(start) Pend(10px)\" data-reactid=\"892\"><span data-reactid=\"893\">Feb 25, 2021</span></td>, <td class=\"Py(10px) Pstart(10px)\" data-reactid=\"894\"><span data-reactid=\"895\">3,136.74</span></td>, <td class=\"Py(10px) Pstart(10px)\" data-reactid=\"896\"><span data-reactid=\"897\">3,178.26</span></td>, <td class=\"Py(10px) Pstart(10px)\" data-reactid=\"898\"><span data-reactid=\"899\">3,047.76</span></td>, <td class=\"Py(10px) Pstart(10px)\" data-reactid=\"900\"><span data-reactid=\"901\">3,057.16</span></td>, <td class=\"Py(10px) Pstart(10px)\" data-reactid=\"902\"><span data-reactid=\"903\">3,057.16</span></td>, <td class=\"Py(10px) Pstart(10px)\" data-reactid=\"904\"><span data-reactid=\"905\">4,533,800</span></td>]\n",
      "[<td class=\"Py(10px) Ta(start) Pend(10px)\" data-reactid=\"907\"><span data-reactid=\"908\">Feb 24, 2021</span></td>, <td class=\"Py(10px) Pstart(10px)\" data-reactid=\"909\"><span data-reactid=\"910\">3,166.75</span></td>, <td class=\"Py(10px) Pstart(10px)\" data-reactid=\"911\"><span data-reactid=\"912\">3,171.23</span></td>, <td class=\"Py(10px) Pstart(10px)\" data-reactid=\"913\"><span data-reactid=\"914\">3,125.38</span></td>, <td class=\"Py(10px) Pstart(10px)\" data-reactid=\"915\"><span data-reactid=\"916\">3,159.53</span></td>, <td class=\"Py(10px) Pstart(10px)\" data-reactid=\"917\"><span data-reactid=\"918\">3,159.53</span></td>, <td class=\"Py(10px) Pstart(10px)\" data-reactid=\"919\"><span data-reactid=\"920\">3,011,300</span></td>]\n",
      "[<td class=\"Py(10px) Ta(start) Pend(10px)\" data-reactid=\"922\"><span data-reactid=\"923\">Feb 23, 2021</span></td>, <td class=\"Py(10px) Pstart(10px)\" data-reactid=\"924\"><span data-reactid=\"925\">3,127.03</span></td>, <td class=\"Py(10px) Pstart(10px)\" data-reactid=\"926\"><span data-reactid=\"927\">3,204.73</span></td>, <td class=\"Py(10px) Pstart(10px)\" data-reactid=\"928\"><span data-reactid=\"929\">3,093.60</span></td>, <td class=\"Py(10px) Pstart(10px)\" data-reactid=\"930\"><span data-reactid=\"931\">3,194.50</span></td>, <td class=\"Py(10px) Pstart(10px)\" data-reactid=\"932\"><span data-reactid=\"933\">3,194.50</span></td>, <td class=\"Py(10px) Pstart(10px)\" data-reactid=\"934\"><span data-reactid=\"935\">4,677,200</span></td>]\n",
      "[<td class=\"Py(10px) Ta(start) Pend(10px)\" data-reactid=\"937\"><span data-reactid=\"938\">Feb 22, 2021</span></td>, <td class=\"Py(10px) Pstart(10px)\" data-reactid=\"939\"><span data-reactid=\"940\">3,208.13</span></td>, <td class=\"Py(10px) Pstart(10px)\" data-reactid=\"941\"><span data-reactid=\"942\">3,232.32</span></td>, <td class=\"Py(10px) Pstart(10px)\" data-reactid=\"943\"><span data-reactid=\"944\">3,172.26</span></td>, <td class=\"Py(10px) Pstart(10px)\" data-reactid=\"945\"><span data-reactid=\"946\">3,180.74</span></td>, <td class=\"Py(10px) Pstart(10px)\" data-reactid=\"947\"><span data-reactid=\"948\">3,180.74</span></td>, <td class=\"Py(10px) Pstart(10px)\" data-reactid=\"949\"><span data-reactid=\"950\">3,515,700</span></td>]\n",
      "[<td class=\"Py(10px) Ta(start) Pend(10px)\" data-reactid=\"952\"><span data-reactid=\"953\">Feb 19, 2021</span></td>, <td class=\"Py(10px) Pstart(10px)\" data-reactid=\"954\"><span data-reactid=\"955\">3,328.23</span></td>, <td class=\"Py(10px) Pstart(10px)\" data-reactid=\"956\"><span data-reactid=\"957\">3,333.50</span></td>, <td class=\"Py(10px) Pstart(10px)\" data-reactid=\"958\"><span data-reactid=\"959\">3,245.75</span></td>, <td class=\"Py(10px) Pstart(10px)\" data-reactid=\"960\"><span data-reactid=\"961\">3,249.90</span></td>, <td class=\"Py(10px) Pstart(10px)\" data-reactid=\"962\"><span data-reactid=\"963\">3,249.90</span></td>, <td class=\"Py(10px) Pstart(10px)\" data-reactid=\"964\"><span data-reactid=\"965\">4,305,200</span></td>]\n",
      "[<td class=\"Py(10px) Ta(start) Pend(10px)\" data-reactid=\"967\"><span data-reactid=\"968\">Feb 18, 2021</span></td>, <td class=\"Py(10px) Pstart(10px)\" data-reactid=\"969\"><span data-reactid=\"970\">3,282.42</span></td>, <td class=\"Py(10px) Pstart(10px)\" data-reactid=\"971\"><span data-reactid=\"972\">3,338.00</span></td>, <td class=\"Py(10px) Pstart(10px)\" data-reactid=\"973\"><span data-reactid=\"974\">3,273.94</span></td>, <td class=\"Py(10px) Pstart(10px)\" data-reactid=\"975\"><span data-reactid=\"976\">3,328.23</span></td>, <td class=\"Py(10px) Pstart(10px)\" data-reactid=\"977\"><span data-reactid=\"978\">3,328.23</span></td>, <td class=\"Py(10px) Pstart(10px)\" data-reactid=\"979\"><span data-reactid=\"980\">3,027,400</span></td>]\n",
      "[<td class=\"Py(10px) Ta(start) Pend(10px)\" data-reactid=\"982\"><span data-reactid=\"983\">Feb 17, 2021</span></td>, <td class=\"Py(10px) Pstart(10px)\" data-reactid=\"984\"><span data-reactid=\"985\">3,263.60</span></td>, <td class=\"Py(10px) Pstart(10px)\" data-reactid=\"986\"><span data-reactid=\"987\">3,320.91</span></td>, <td class=\"Py(10px) Pstart(10px)\" data-reactid=\"988\"><span data-reactid=\"989\">3,259.50</span></td>, <td class=\"Py(10px) Pstart(10px)\" data-reactid=\"990\"><span data-reactid=\"991\">3,308.64</span></td>, <td class=\"Py(10px) Pstart(10px)\" data-reactid=\"992\"><span data-reactid=\"993\">3,308.64</span></td>, <td class=\"Py(10px) Pstart(10px)\" data-reactid=\"994\"><span data-reactid=\"995\">3,297,500</span></td>]\n",
      "[<td class=\"Py(10px) Ta(start) Pend(10px)\" data-reactid=\"997\"><span data-reactid=\"998\">Feb 16, 2021</span></td>, <td class=\"Py(10px) Pstart(10px)\" data-reactid=\"999\"><span data-reactid=\"1000\">3,254.05</span></td>, <td class=\"Py(10px) Pstart(10px)\" data-reactid=\"1001\"><span data-reactid=\"1002\">3,308.30</span></td>, <td class=\"Py(10px) Pstart(10px)\" data-reactid=\"1003\"><span data-reactid=\"1004\">3,253.59</span></td>, <td class=\"Py(10px) Pstart(10px)\" data-reactid=\"1005\"><span data-reactid=\"1006\">3,268.95</span></td>, <td class=\"Py(10px) Pstart(10px)\" data-reactid=\"1007\"><span data-reactid=\"1008\">3,268.95</span></td>, <td class=\"Py(10px) Pstart(10px)\" data-reactid=\"1009\"><span data-reactid=\"1010\">2,574,700</span></td>]\n",
      "[<td class=\"Py(10px) Ta(start) Pend(10px)\" data-reactid=\"1012\"><span data-reactid=\"1013\">Feb 12, 2021</span></td>, <td class=\"Py(10px) Pstart(10px)\" data-reactid=\"1014\"><span data-reactid=\"1015\">3,250.00</span></td>, <td class=\"Py(10px) Pstart(10px)\" data-reactid=\"1016\"><span data-reactid=\"1017\">3,280.25</span></td>, <td class=\"Py(10px) Pstart(10px)\" data-reactid=\"1018\"><span data-reactid=\"1019\">3,233.31</span></td>, <td class=\"Py(10px) Pstart(10px)\" data-reactid=\"1020\"><span data-reactid=\"1021\">3,277.71</span></td>, <td class=\"Py(10px) Pstart(10px)\" data-reactid=\"1022\"><span data-reactid=\"1023\">3,277.71</span></td>, <td class=\"Py(10px) Pstart(10px)\" data-reactid=\"1024\"><span data-reactid=\"1025\">2,335,300</span></td>]\n",
      "[<td class=\"Py(10px) Ta(start) Pend(10px)\" data-reactid=\"1027\"><span data-reactid=\"1028\">Feb 11, 2021</span></td>, <td class=\"Py(10px) Pstart(10px)\" data-reactid=\"1029\"><span data-reactid=\"1030\">3,292.00</span></td>, <td class=\"Py(10px) Pstart(10px)\" data-reactid=\"1031\"><span data-reactid=\"1032\">3,292.00</span></td>, <td class=\"Py(10px) Pstart(10px)\" data-reactid=\"1033\"><span data-reactid=\"1034\">3,248.06</span></td>, <td class=\"Py(10px) Pstart(10px)\" data-reactid=\"1035\"><span data-reactid=\"1036\">3,262.13</span></td>, <td class=\"Py(10px) Pstart(10px)\" data-reactid=\"1037\"><span data-reactid=\"1038\">3,262.13</span></td>, <td class=\"Py(10px) Pstart(10px)\" data-reactid=\"1039\"><span data-reactid=\"1040\">2,301,400</span></td>]\n",
      "[<td class=\"Py(10px) Ta(start) Pend(10px)\" data-reactid=\"1042\"><span data-reactid=\"1043\">Feb 10, 2021</span></td>, <td class=\"Py(10px) Pstart(10px)\" data-reactid=\"1044\"><span data-reactid=\"1045\">3,314.00</span></td>, <td class=\"Py(10px) Pstart(10px)\" data-reactid=\"1046\"><span data-reactid=\"1047\">3,317.95</span></td>, <td class=\"Py(10px) Pstart(10px)\" data-reactid=\"1048\"><span data-reactid=\"1049\">3,254.00</span></td>, <td class=\"Py(10px) Pstart(10px)\" data-reactid=\"1050\"><span data-reactid=\"1051\">3,286.58</span></td>, <td class=\"Py(10px) Pstart(10px)\" data-reactid=\"1052\"><span data-reactid=\"1053\">3,286.58</span></td>, <td class=\"Py(10px) Pstart(10px)\" data-reactid=\"1054\"><span data-reactid=\"1055\">3,151,600</span></td>]\n",
      "[<td class=\"Py(10px) Ta(start) Pend(10px)\" data-reactid=\"1057\"><span data-reactid=\"1058\">Feb 09, 2021</span></td>, <td class=\"Py(10px) Pstart(10px)\" data-reactid=\"1059\"><span data-reactid=\"1060\">3,312.49</span></td>, <td class=\"Py(10px) Pstart(10px)\" data-reactid=\"1061\"><span data-reactid=\"1062\">3,338.00</span></td>, <td class=\"Py(10px) Pstart(10px)\" data-reactid=\"1063\"><span data-reactid=\"1064\">3,297.84</span></td>, <td class=\"Py(10px) Pstart(10px)\" data-reactid=\"1065\"><span data-reactid=\"1066\">3,305.00</span></td>, <td class=\"Py(10px) Pstart(10px)\" data-reactid=\"1067\"><span data-reactid=\"1068\">3,305.00</span></td>, <td class=\"Py(10px) Pstart(10px)\" data-reactid=\"1069\"><span data-reactid=\"1070\">2,203,500</span></td>]\n",
      "[<td class=\"Py(10px) Ta(start) Pend(10px)\" data-reactid=\"1072\"><span data-reactid=\"1073\">Feb 08, 2021</span></td>, <td class=\"Py(10px) Pstart(10px)\" data-reactid=\"1074\"><span data-reactid=\"1075\">3,358.50</span></td>, <td class=\"Py(10px) Pstart(10px)\" data-reactid=\"1076\"><span data-reactid=\"1077\">3,365.00</span></td>, <td class=\"Py(10px) Pstart(10px)\" data-reactid=\"1078\"><span data-reactid=\"1079\">3,304.00</span></td>, <td class=\"Py(10px) Pstart(10px)\" data-reactid=\"1080\"><span data-reactid=\"1081\">3,322.94</span></td>, <td class=\"Py(10px) Pstart(10px)\" data-reactid=\"1082\"><span data-reactid=\"1083\">3,322.94</span></td>, <td class=\"Py(10px) Pstart(10px)\" data-reactid=\"1084\"><span data-reactid=\"1085\">3,257,400</span></td>]\n",
      "[<td class=\"Py(10px) Ta(start) Pend(10px)\" data-reactid=\"1087\"><span data-reactid=\"1088\">Feb 05, 2021</span></td>, <td class=\"Py(10px) Pstart(10px)\" data-reactid=\"1089\"><span data-reactid=\"1090\">3,319.00</span></td>, <td class=\"Py(10px) Pstart(10px)\" data-reactid=\"1091\"><span data-reactid=\"1092\">3,377.00</span></td>, <td class=\"Py(10px) Pstart(10px)\" data-reactid=\"1093\"><span data-reactid=\"1094\">3,302.71</span></td>, <td class=\"Py(10px) Pstart(10px)\" data-reactid=\"1095\"><span data-reactid=\"1096\">3,352.15</span></td>, <td class=\"Py(10px) Pstart(10px)\" data-reactid=\"1097\"><span data-reactid=\"1098\">3,352.15</span></td>, <td class=\"Py(10px) Pstart(10px)\" data-reactid=\"1099\"><span data-reactid=\"1100\">3,620,800</span></td>]\n",
      "[<td class=\"Py(10px) Ta(start) Pend(10px)\" data-reactid=\"1102\"><span data-reactid=\"1103\">Feb 04, 2021</span></td>, <td class=\"Py(10px) Pstart(10px)\" data-reactid=\"1104\"><span data-reactid=\"1105\">3,330.00</span></td>, <td class=\"Py(10px) Pstart(10px)\" data-reactid=\"1106\"><span data-reactid=\"1107\">3,347.00</span></td>, <td class=\"Py(10px) Pstart(10px)\" data-reactid=\"1108\"><span data-reactid=\"1109\">3,277.75</span></td>, <td class=\"Py(10px) Pstart(10px)\" data-reactid=\"1110\"><span data-reactid=\"1111\">3,331.00</span></td>, <td class=\"Py(10px) Pstart(10px)\" data-reactid=\"1112\"><span data-reactid=\"1113\">3,331.00</span></td>, <td class=\"Py(10px) Pstart(10px)\" data-reactid=\"1114\"><span data-reactid=\"1115\">3,670,700</span></td>]\n",
      "[<td class=\"Py(10px) Ta(start) Pend(10px)\" data-reactid=\"1117\"><span data-reactid=\"1118\">Feb 03, 2021</span></td>, <td class=\"Py(10px) Pstart(10px)\" data-reactid=\"1119\"><span data-reactid=\"1120\">3,425.01</span></td>, <td class=\"Py(10px) Pstart(10px)\" data-reactid=\"1121\"><span data-reactid=\"1122\">3,434.00</span></td>, <td class=\"Py(10px) Pstart(10px)\" data-reactid=\"1123\"><span data-reactid=\"1124\">3,308.62</span></td>, <td class=\"Py(10px) Pstart(10px)\" data-reactid=\"1125\"><span data-reactid=\"1126\">3,312.53</span></td>, <td class=\"Py(10px) Pstart(10px)\" data-reactid=\"1127\"><span data-reactid=\"1128\">3,312.53</span></td>, <td class=\"Py(10px) Pstart(10px)\" data-reactid=\"1129\"><span data-reactid=\"1130\">7,088,800</span></td>]\n",
      "[<td class=\"Py(10px) Ta(start) Pend(10px)\" data-reactid=\"1132\"><span data-reactid=\"1133\">Feb 02, 2021</span></td>, <td class=\"Py(10px) Pstart(10px)\" data-reactid=\"1134\"><span data-reactid=\"1135\">3,380.00</span></td>, <td class=\"Py(10px) Pstart(10px)\" data-reactid=\"1136\"><span data-reactid=\"1137\">3,427.74</span></td>, <td class=\"Py(10px) Pstart(10px)\" data-reactid=\"1138\"><span data-reactid=\"1139\">3,361.13</span></td>, <td class=\"Py(10px) Pstart(10px)\" data-reactid=\"1140\"><span data-reactid=\"1141\">3,380.00</span></td>, <td class=\"Py(10px) Pstart(10px)\" data-reactid=\"1142\"><span data-reactid=\"1143\">3,380.00</span></td>, <td class=\"Py(10px) Pstart(10px)\" data-reactid=\"1144\"><span data-reactid=\"1145\">7,098,600</span></td>]\n",
      "[<td class=\"Py(10px) Ta(start) Pend(10px)\" data-reactid=\"1147\"><span data-reactid=\"1148\">Feb 01, 2021</span></td>, <td class=\"Py(10px) Pstart(10px)\" data-reactid=\"1149\"><span data-reactid=\"1150\">3,242.36</span></td>, <td class=\"Py(10px) Pstart(10px)\" data-reactid=\"1151\"><span data-reactid=\"1152\">3,350.26</span></td>, <td class=\"Py(10px) Pstart(10px)\" data-reactid=\"1153\"><span data-reactid=\"1154\">3,235.03</span></td>, <td class=\"Py(10px) Pstart(10px)\" data-reactid=\"1155\"><span data-reactid=\"1156\">3,342.88</span></td>, <td class=\"Py(10px) Pstart(10px)\" data-reactid=\"1157\"><span data-reactid=\"1158\">3,342.88</span></td>, <td class=\"Py(10px) Pstart(10px)\" data-reactid=\"1159\"><span data-reactid=\"1160\">4,160,200</span></td>]\n",
      "[<td class=\"Py(10px) Ta(start) Pend(10px)\" data-reactid=\"1162\"><span data-reactid=\"1163\">Jan 29, 2021</span></td>, <td class=\"Py(10px) Pstart(10px)\" data-reactid=\"1164\"><span data-reactid=\"1165\">3,230.00</span></td>, <td class=\"Py(10px) Pstart(10px)\" data-reactid=\"1166\"><span data-reactid=\"1167\">3,236.99</span></td>, <td class=\"Py(10px) Pstart(10px)\" data-reactid=\"1168\"><span data-reactid=\"1169\">3,184.55</span></td>, <td class=\"Py(10px) Pstart(10px)\" data-reactid=\"1170\"><span data-reactid=\"1171\">3,206.20</span></td>, <td class=\"Py(10px) Pstart(10px)\" data-reactid=\"1172\"><span data-reactid=\"1173\">3,206.20</span></td>, <td class=\"Py(10px) Pstart(10px)\" data-reactid=\"1174\"><span data-reactid=\"1175\">4,293,600</span></td>]\n",
      "[<td class=\"Py(10px) Ta(start) Pend(10px)\" data-reactid=\"1177\"><span data-reactid=\"1178\">Jan 28, 2021</span></td>, <td class=\"Py(10px) Pstart(10px)\" data-reactid=\"1179\"><span data-reactid=\"1180\">3,235.04</span></td>, <td class=\"Py(10px) Pstart(10px)\" data-reactid=\"1181\"><span data-reactid=\"1182\">3,301.68</span></td>, <td class=\"Py(10px) Pstart(10px)\" data-reactid=\"1183\"><span data-reactid=\"1184\">3,228.69</span></td>, <td class=\"Py(10px) Pstart(10px)\" data-reactid=\"1185\"><span data-reactid=\"1186\">3,237.62</span></td>, <td class=\"Py(10px) Pstart(10px)\" data-reactid=\"1187\"><span data-reactid=\"1188\">3,237.62</span></td>, <td class=\"Py(10px) Pstart(10px)\" data-reactid=\"1189\"><span data-reactid=\"1190\">3,149,200</span></td>]\n",
      "[<td class=\"Py(10px) Ta(start) Pend(10px)\" data-reactid=\"1192\"><span data-reactid=\"1193\">Jan 27, 2021</span></td>, <td class=\"Py(10px) Pstart(10px)\" data-reactid=\"1194\"><span data-reactid=\"1195\">3,341.49</span></td>, <td class=\"Py(10px) Pstart(10px)\" data-reactid=\"1196\"><span data-reactid=\"1197\">3,346.52</span></td>, <td class=\"Py(10px) Pstart(10px)\" data-reactid=\"1198\"><span data-reactid=\"1199\">3,207.08</span></td>, <td class=\"Py(10px) Pstart(10px)\" data-reactid=\"1200\"><span data-reactid=\"1201\">3,232.58</span></td>, <td class=\"Py(10px) Pstart(10px)\" data-reactid=\"1202\"><span data-reactid=\"1203\">3,232.58</span></td>, <td class=\"Py(10px) Pstart(10px)\" data-reactid=\"1204\"><span data-reactid=\"1205\">4,660,200</span></td>]\n",
      "[<td class=\"Py(10px) Ta(start) Pend(10px)\" data-reactid=\"1207\"><span data-reactid=\"1208\">Jan 26, 2021</span></td>, <td class=\"Py(10px) Pstart(10px)\" data-reactid=\"1209\"><span data-reactid=\"1210\">3,296.36</span></td>, <td class=\"Py(10px) Pstart(10px)\" data-reactid=\"1211\"><span data-reactid=\"1212\">3,338.00</span></td>, <td class=\"Py(10px) Pstart(10px)\" data-reactid=\"1213\"><span data-reactid=\"1214\">3,282.87</span></td>, <td class=\"Py(10px) Pstart(10px)\" data-reactid=\"1215\"><span data-reactid=\"1216\">3,326.13</span></td>, <td class=\"Py(10px) Pstart(10px)\" data-reactid=\"1217\"><span data-reactid=\"1218\">3,326.13</span></td>, <td class=\"Py(10px) Pstart(10px)\" data-reactid=\"1219\"><span data-reactid=\"1220\">2,955,200</span></td>]\n",
      "[<td class=\"Py(10px) Ta(start) Pend(10px)\" data-reactid=\"1222\"><span data-reactid=\"1223\">Jan 25, 2021</span></td>, <td class=\"Py(10px) Pstart(10px)\" data-reactid=\"1224\"><span data-reactid=\"1225\">3,328.50</span></td>, <td class=\"Py(10px) Pstart(10px)\" data-reactid=\"1226\"><span data-reactid=\"1227\">3,363.89</span></td>, <td class=\"Py(10px) Pstart(10px)\" data-reactid=\"1228\"><span data-reactid=\"1229\">3,243.15</span></td>, <td class=\"Py(10px) Pstart(10px)\" data-reactid=\"1230\"><span data-reactid=\"1231\">3,294.00</span></td>, <td class=\"Py(10px) Pstart(10px)\" data-reactid=\"1232\"><span data-reactid=\"1233\">3,294.00</span></td>, <td class=\"Py(10px) Pstart(10px)\" data-reactid=\"1234\"><span data-reactid=\"1235\">3,749,800</span></td>]\n",
      "[<td class=\"Py(10px) Ta(start) Pend(10px)\" data-reactid=\"1237\"><span data-reactid=\"1238\">Jan 22, 2021</span></td>, <td class=\"Py(10px) Pstart(10px)\" data-reactid=\"1239\"><span data-reactid=\"1240\">3,304.31</span></td>, <td class=\"Py(10px) Pstart(10px)\" data-reactid=\"1241\"><span data-reactid=\"1242\">3,321.91</span></td>, <td class=\"Py(10px) Pstart(10px)\" data-reactid=\"1243\"><span data-reactid=\"1244\">3,283.16</span></td>, <td class=\"Py(10px) Pstart(10px)\" data-reactid=\"1245\"><span data-reactid=\"1246\">3,292.23</span></td>, <td class=\"Py(10px) Pstart(10px)\" data-reactid=\"1247\"><span data-reactid=\"1248\">3,292.23</span></td>, <td class=\"Py(10px) Pstart(10px)\" data-reactid=\"1249\"><span data-reactid=\"1250\">2,821,900</span></td>]\n",
      "[<td class=\"Py(10px) Ta(start) Pend(10px)\" data-reactid=\"1252\"><span data-reactid=\"1253\">Jan 21, 2021</span></td>, <td class=\"Py(10px) Pstart(10px)\" data-reactid=\"1254\"><span data-reactid=\"1255\">3,293.00</span></td>, <td class=\"Py(10px) Pstart(10px)\" data-reactid=\"1256\"><span data-reactid=\"1257\">3,348.55</span></td>, <td class=\"Py(10px) Pstart(10px)\" data-reactid=\"1258\"><span data-reactid=\"1259\">3,289.57</span></td>, <td class=\"Py(10px) Pstart(10px)\" data-reactid=\"1260\"><span data-reactid=\"1261\">3,306.99</span></td>, <td class=\"Py(10px) Pstart(10px)\" data-reactid=\"1262\"><span data-reactid=\"1263\">3,306.99</span></td>, <td class=\"Py(10px) Pstart(10px)\" data-reactid=\"1264\"><span data-reactid=\"1265\">4,936,100</span></td>]\n",
      "[<td class=\"Py(10px) Ta(start) Pend(10px)\" data-reactid=\"1267\"><span data-reactid=\"1268\">Jan 20, 2021</span></td>, <td class=\"Py(10px) Pstart(10px)\" data-reactid=\"1269\"><span data-reactid=\"1270\">3,181.99</span></td>, <td class=\"Py(10px) Pstart(10px)\" data-reactid=\"1271\"><span data-reactid=\"1272\">3,279.80</span></td>, <td class=\"Py(10px) Pstart(10px)\" data-reactid=\"1273\"><span data-reactid=\"1274\">3,175.00</span></td>, <td class=\"Py(10px) Pstart(10px)\" data-reactid=\"1275\"><span data-reactid=\"1276\">3,263.38</span></td>, <td class=\"Py(10px) Pstart(10px)\" data-reactid=\"1277\"><span data-reactid=\"1278\">3,263.38</span></td>, <td class=\"Py(10px) Pstart(10px)\" data-reactid=\"1279\"><span data-reactid=\"1280\">5,309,800</span></td>]\n",
      "[<td class=\"Py(10px) Ta(start) Pend(10px)\" data-reactid=\"1282\"><span data-reactid=\"1283\">Jan 19, 2021</span></td>, <td class=\"Py(10px) Pstart(10px)\" data-reactid=\"1284\"><span data-reactid=\"1285\">3,107.00</span></td>, <td class=\"Py(10px) Pstart(10px)\" data-reactid=\"1286\"><span data-reactid=\"1287\">3,145.00</span></td>, <td class=\"Py(10px) Pstart(10px)\" data-reactid=\"1288\"><span data-reactid=\"1289\">3,096.00</span></td>, <td class=\"Py(10px) Pstart(10px)\" data-reactid=\"1290\"><span data-reactid=\"1291\">3,120.76</span></td>, <td class=\"Py(10px) Pstart(10px)\" data-reactid=\"1292\"><span data-reactid=\"1293\">3,120.76</span></td>, <td class=\"Py(10px) Pstart(10px)\" data-reactid=\"1294\"><span data-reactid=\"1295\">3,305,100</span></td>]\n",
      "[<td class=\"Py(10px) Ta(start) Pend(10px)\" data-reactid=\"1297\"><span data-reactid=\"1298\">Jan 15, 2021</span></td>, <td class=\"Py(10px) Pstart(10px)\" data-reactid=\"1299\"><span data-reactid=\"1300\">3,123.02</span></td>, <td class=\"Py(10px) Pstart(10px)\" data-reactid=\"1301\"><span data-reactid=\"1302\">3,142.55</span></td>, <td class=\"Py(10px) Pstart(10px)\" data-reactid=\"1303\"><span data-reactid=\"1304\">3,095.17</span></td>, <td class=\"Py(10px) Pstart(10px)\" data-reactid=\"1305\"><span data-reactid=\"1306\">3,104.25</span></td>, <td class=\"Py(10px) Pstart(10px)\" data-reactid=\"1307\"><span data-reactid=\"1308\">3,104.25</span></td>, <td class=\"Py(10px) Pstart(10px)\" data-reactid=\"1309\"><span data-reactid=\"1310\">4,244,000</span></td>]\n",
      "[<td class=\"Py(10px) Ta(start) Pend(10px)\" data-reactid=\"1312\"><span data-reactid=\"1313\">Jan 14, 2021</span></td>, <td class=\"Py(10px) Pstart(10px)\" data-reactid=\"1314\"><span data-reactid=\"1315\">3,167.52</span></td>, <td class=\"Py(10px) Pstart(10px)\" data-reactid=\"1316\"><span data-reactid=\"1317\">3,178.00</span></td>, <td class=\"Py(10px) Pstart(10px)\" data-reactid=\"1318\"><span data-reactid=\"1319\">3,120.59</span></td>, <td class=\"Py(10px) Pstart(10px)\" data-reactid=\"1320\"><span data-reactid=\"1321\">3,127.47</span></td>, <td class=\"Py(10px) Pstart(10px)\" data-reactid=\"1322\"><span data-reactid=\"1323\">3,127.47</span></td>, <td class=\"Py(10px) Pstart(10px)\" data-reactid=\"1324\"><span data-reactid=\"1325\">3,070,900</span></td>]\n",
      "[<td class=\"Py(10px) Ta(start) Pend(10px)\" data-reactid=\"1327\"><span data-reactid=\"1328\">Jan 13, 2021</span></td>, <td class=\"Py(10px) Pstart(10px)\" data-reactid=\"1329\"><span data-reactid=\"1330\">3,128.44</span></td>, <td class=\"Py(10px) Pstart(10px)\" data-reactid=\"1331\"><span data-reactid=\"1332\">3,189.95</span></td>, <td class=\"Py(10px) Pstart(10px)\" data-reactid=\"1333\"><span data-reactid=\"1334\">3,122.08</span></td>, <td class=\"Py(10px) Pstart(10px)\" data-reactid=\"1335\"><span data-reactid=\"1336\">3,165.89</span></td>, <td class=\"Py(10px) Pstart(10px)\" data-reactid=\"1337\"><span data-reactid=\"1338\">3,165.89</span></td>, <td class=\"Py(10px) Pstart(10px)\" data-reactid=\"1339\"><span data-reactid=\"1340\">3,321,200</span></td>]\n",
      "[<td class=\"Py(10px) Ta(start) Pend(10px)\" data-reactid=\"1342\"><span data-reactid=\"1343\">Jan 12, 2021</span></td>, <td class=\"Py(10px) Pstart(10px)\" data-reactid=\"1344\"><span data-reactid=\"1345\">3,120.00</span></td>, <td class=\"Py(10px) Pstart(10px)\" data-reactid=\"1346\"><span data-reactid=\"1347\">3,142.14</span></td>, <td class=\"Py(10px) Pstart(10px)\" data-reactid=\"1348\"><span data-reactid=\"1349\">3,086.00</span></td>, <td class=\"Py(10px) Pstart(10px)\" data-reactid=\"1350\"><span data-reactid=\"1351\">3,120.83</span></td>, <td class=\"Py(10px) Pstart(10px)\" data-reactid=\"1352\"><span data-reactid=\"1353\">3,120.83</span></td>, <td class=\"Py(10px) Pstart(10px)\" data-reactid=\"1354\"><span data-reactid=\"1355\">3,514,600</span></td>]\n",
      "[<td class=\"Py(10px) Ta(start) Pend(10px)\" data-reactid=\"1357\"><span data-reactid=\"1358\">Jan 11, 2021</span></td>, <td class=\"Py(10px) Pstart(10px)\" data-reactid=\"1359\"><span data-reactid=\"1360\">3,148.01</span></td>, <td class=\"Py(10px) Pstart(10px)\" data-reactid=\"1361\"><span data-reactid=\"1362\">3,156.38</span></td>, <td class=\"Py(10px) Pstart(10px)\" data-reactid=\"1363\"><span data-reactid=\"1364\">3,110.00</span></td>, <td class=\"Py(10px) Pstart(10px)\" data-reactid=\"1365\"><span data-reactid=\"1366\">3,114.21</span></td>, <td class=\"Py(10px) Pstart(10px)\" data-reactid=\"1367\"><span data-reactid=\"1368\">3,114.21</span></td>, <td class=\"Py(10px) Pstart(10px)\" data-reactid=\"1369\"><span data-reactid=\"1370\">3,683,400</span></td>]\n",
      "[<td class=\"Py(10px) Ta(start) Pend(10px)\" data-reactid=\"1372\"><span data-reactid=\"1373\">Jan 08, 2021</span></td>, <td class=\"Py(10px) Pstart(10px)\" data-reactid=\"1374\"><span data-reactid=\"1375\">3,180.00</span></td>, <td class=\"Py(10px) Pstart(10px)\" data-reactid=\"1376\"><span data-reactid=\"1377\">3,190.64</span></td>, <td class=\"Py(10px) Pstart(10px)\" data-reactid=\"1378\"><span data-reactid=\"1379\">3,142.20</span></td>, <td class=\"Py(10px) Pstart(10px)\" data-reactid=\"1380\"><span data-reactid=\"1381\">3,182.70</span></td>, <td class=\"Py(10px) Pstart(10px)\" data-reactid=\"1382\"><span data-reactid=\"1383\">3,182.70</span></td>, <td class=\"Py(10px) Pstart(10px)\" data-reactid=\"1384\"><span data-reactid=\"1385\">3,537,700</span></td>]\n",
      "[<td class=\"Py(10px) Ta(start) Pend(10px)\" data-reactid=\"1387\"><span data-reactid=\"1388\">Jan 07, 2021</span></td>, <td class=\"Py(10px) Pstart(10px)\" data-reactid=\"1389\"><span data-reactid=\"1390\">3,157.00</span></td>, <td class=\"Py(10px) Pstart(10px)\" data-reactid=\"1391\"><span data-reactid=\"1392\">3,208.54</span></td>, <td class=\"Py(10px) Pstart(10px)\" data-reactid=\"1393\"><span data-reactid=\"1394\">3,155.00</span></td>, <td class=\"Py(10px) Pstart(10px)\" data-reactid=\"1395\"><span data-reactid=\"1396\">3,162.16</span></td>, <td class=\"Py(10px) Pstart(10px)\" data-reactid=\"1397\"><span data-reactid=\"1398\">3,162.16</span></td>, <td class=\"Py(10px) Pstart(10px)\" data-reactid=\"1399\"><span data-reactid=\"1400\">3,514,500</span></td>]\n",
      "[<td class=\"Py(10px) Ta(start) Pend(10px)\" data-reactid=\"1402\"><span data-reactid=\"1403\">Jan 06, 2021</span></td>, <td class=\"Py(10px) Pstart(10px)\" data-reactid=\"1404\"><span data-reactid=\"1405\">3,146.48</span></td>, <td class=\"Py(10px) Pstart(10px)\" data-reactid=\"1406\"><span data-reactid=\"1407\">3,197.51</span></td>, <td class=\"Py(10px) Pstart(10px)\" data-reactid=\"1408\"><span data-reactid=\"1409\">3,131.16</span></td>, <td class=\"Py(10px) Pstart(10px)\" data-reactid=\"1410\"><span data-reactid=\"1411\">3,138.38</span></td>, <td class=\"Py(10px) Pstart(10px)\" data-reactid=\"1412\"><span data-reactid=\"1413\">3,138.38</span></td>, <td class=\"Py(10px) Pstart(10px)\" data-reactid=\"1414\"><span data-reactid=\"1415\">4,394,800</span></td>]\n",
      "[<td class=\"Py(10px) Ta(start) Pend(10px)\" data-reactid=\"1417\"><span data-reactid=\"1418\">Jan 05, 2021</span></td>, <td class=\"Py(10px) Pstart(10px)\" data-reactid=\"1419\"><span data-reactid=\"1420\">3,166.01</span></td>, <td class=\"Py(10px) Pstart(10px)\" data-reactid=\"1421\"><span data-reactid=\"1422\">3,223.38</span></td>, <td class=\"Py(10px) Pstart(10px)\" data-reactid=\"1423\"><span data-reactid=\"1424\">3,165.06</span></td>, <td class=\"Py(10px) Pstart(10px)\" data-reactid=\"1425\"><span data-reactid=\"1426\">3,218.51</span></td>, <td class=\"Py(10px) Pstart(10px)\" data-reactid=\"1427\"><span data-reactid=\"1428\">3,218.51</span></td>, <td class=\"Py(10px) Pstart(10px)\" data-reactid=\"1429\"><span data-reactid=\"1430\">2,655,500</span></td>]\n",
      "[<td class=\"Py(10px) Ta(start) Pend(10px)\" data-reactid=\"1432\"><span data-reactid=\"1433\">Jan 04, 2021</span></td>, <td class=\"Py(10px) Pstart(10px)\" data-reactid=\"1434\"><span data-reactid=\"1435\">3,270.00</span></td>, <td class=\"Py(10px) Pstart(10px)\" data-reactid=\"1436\"><span data-reactid=\"1437\">3,272.00</span></td>, <td class=\"Py(10px) Pstart(10px)\" data-reactid=\"1438\"><span data-reactid=\"1439\">3,144.02</span></td>, <td class=\"Py(10px) Pstart(10px)\" data-reactid=\"1440\"><span data-reactid=\"1441\">3,186.63</span></td>, <td class=\"Py(10px) Pstart(10px)\" data-reactid=\"1442\"><span data-reactid=\"1443\">3,186.63</span></td>, <td class=\"Py(10px) Pstart(10px)\" data-reactid=\"1444\"><span data-reactid=\"1445\">4,411,400</span></td>]\n",
      "[<td class=\"Py(10px) Ta(start) Pend(10px)\" data-reactid=\"1447\"><span data-reactid=\"1448\">Dec 31, 2020</span></td>, <td class=\"Py(10px) Pstart(10px)\" data-reactid=\"1449\"><span data-reactid=\"1450\">3,275.00</span></td>, <td class=\"Py(10px) Pstart(10px)\" data-reactid=\"1451\"><span data-reactid=\"1452\">3,282.92</span></td>, <td class=\"Py(10px) Pstart(10px)\" data-reactid=\"1453\"><span data-reactid=\"1454\">3,241.20</span></td>, <td class=\"Py(10px) Pstart(10px)\" data-reactid=\"1455\"><span data-reactid=\"1456\">3,256.93</span></td>, <td class=\"Py(10px) Pstart(10px)\" data-reactid=\"1457\"><span data-reactid=\"1458\">3,256.93</span></td>, <td class=\"Py(10px) Pstart(10px)\" data-reactid=\"1459\"><span data-reactid=\"1460\">2,957,200</span></td>]\n",
      "[<td class=\"Py(10px) Ta(start) Pend(10px)\" data-reactid=\"1462\"><span data-reactid=\"1463\">Dec 30, 2020</span></td>, <td class=\"Py(10px) Pstart(10px)\" data-reactid=\"1464\"><span data-reactid=\"1465\">3,341.00</span></td>, <td class=\"Py(10px) Pstart(10px)\" data-reactid=\"1466\"><span data-reactid=\"1467\">3,342.10</span></td>, <td class=\"Py(10px) Pstart(10px)\" data-reactid=\"1468\"><span data-reactid=\"1469\">3,282.47</span></td>, <td class=\"Py(10px) Pstart(10px)\" data-reactid=\"1470\"><span data-reactid=\"1471\">3,285.85</span></td>, <td class=\"Py(10px) Pstart(10px)\" data-reactid=\"1472\"><span data-reactid=\"1473\">3,285.85</span></td>, <td class=\"Py(10px) Pstart(10px)\" data-reactid=\"1474\"><span data-reactid=\"1475\">3,209,300</span></td>]\n",
      "[<td class=\"Py(10px) Ta(start) Pend(10px)\" data-reactid=\"1477\"><span data-reactid=\"1478\">Dec 29, 2020</span></td>, <td class=\"Py(10px) Pstart(10px)\" data-reactid=\"1479\"><span data-reactid=\"1480\">3,309.94</span></td>, <td class=\"Py(10px) Pstart(10px)\" data-reactid=\"1481\"><span data-reactid=\"1482\">3,350.65</span></td>, <td class=\"Py(10px) Pstart(10px)\" data-reactid=\"1483\"><span data-reactid=\"1484\">3,281.22</span></td>, <td class=\"Py(10px) Pstart(10px)\" data-reactid=\"1485\"><span data-reactid=\"1486\">3,322.00</span></td>, <td class=\"Py(10px) Pstart(10px)\" data-reactid=\"1487\"><span data-reactid=\"1488\">3,322.00</span></td>, <td class=\"Py(10px) Pstart(10px)\" data-reactid=\"1489\"><span data-reactid=\"1490\">4,872,900</span></td>]\n",
      "[<td class=\"Py(10px) Ta(start) Pend(10px)\" data-reactid=\"1492\"><span data-reactid=\"1493\">Dec 28, 2020</span></td>, <td class=\"Py(10px) Pstart(10px)\" data-reactid=\"1494\"><span data-reactid=\"1495\">3,194.00</span></td>, <td class=\"Py(10px) Pstart(10px)\" data-reactid=\"1496\"><span data-reactid=\"1497\">3,304.00</span></td>, <td class=\"Py(10px) Pstart(10px)\" data-reactid=\"1498\"><span data-reactid=\"1499\">3,172.69</span></td>, <td class=\"Py(10px) Pstart(10px)\" data-reactid=\"1500\"><span data-reactid=\"1501\">3,283.96</span></td>, <td class=\"Py(10px) Pstart(10px)\" data-reactid=\"1502\"><span data-reactid=\"1503\">3,283.96</span></td>, <td class=\"Py(10px) Pstart(10px)\" data-reactid=\"1504\"><span data-reactid=\"1505\">5,686,800</span></td>]\n",
      "[<td class=\"Py(10px) Ta(start) Pend(10px)\" data-reactid=\"1507\"><span data-reactid=\"1508\">Dec 24, 2020</span></td>, <td class=\"Py(10px) Pstart(10px)\" data-reactid=\"1509\"><span data-reactid=\"1510\">3,193.90</span></td>, <td class=\"Py(10px) Pstart(10px)\" data-reactid=\"1511\"><span data-reactid=\"1512\">3,202.00</span></td>, <td class=\"Py(10px) Pstart(10px)\" data-reactid=\"1513\"><span data-reactid=\"1514\">3,169.00</span></td>, <td class=\"Py(10px) Pstart(10px)\" data-reactid=\"1515\"><span data-reactid=\"1516\">3,172.69</span></td>, <td class=\"Py(10px) Pstart(10px)\" data-reactid=\"1517\"><span data-reactid=\"1518\">3,172.69</span></td>, <td class=\"Py(10px) Pstart(10px)\" data-reactid=\"1519\"><span data-reactid=\"1520\">1,451,900</span></td>]\n",
      "[<td class=\"Py(10px) Ta(start) Pend(10px)\" data-reactid=\"1522\"><span data-reactid=\"1523\">Dec 23, 2020</span></td>, <td class=\"Py(10px) Pstart(10px)\" data-reactid=\"1524\"><span data-reactid=\"1525\">3,205.00</span></td>, <td class=\"Py(10px) Pstart(10px)\" data-reactid=\"1526\"><span data-reactid=\"1527\">3,210.13</span></td>, <td class=\"Py(10px) Pstart(10px)\" data-reactid=\"1528\"><span data-reactid=\"1529\">3,184.17</span></td>, <td class=\"Py(10px) Pstart(10px)\" data-reactid=\"1530\"><span data-reactid=\"1531\">3,185.27</span></td>, <td class=\"Py(10px) Pstart(10px)\" data-reactid=\"1532\"><span data-reactid=\"1533\">3,185.27</span></td>, <td class=\"Py(10px) Pstart(10px)\" data-reactid=\"1534\"><span data-reactid=\"1535\">2,093,800</span></td>]\n",
      "[<td class=\"Py(10px) Ta(start) Pend(10px)\" data-reactid=\"1537\"><span data-reactid=\"1538\">Dec 22, 2020</span></td>, <td class=\"Py(10px) Pstart(10px)\" data-reactid=\"1539\"><span data-reactid=\"1540\">3,202.84</span></td>, <td class=\"Py(10px) Pstart(10px)\" data-reactid=\"1541\"><span data-reactid=\"1542\">3,222.00</span></td>, <td class=\"Py(10px) Pstart(10px)\" data-reactid=\"1543\"><span data-reactid=\"1544\">3,180.08</span></td>, <td class=\"Py(10px) Pstart(10px)\" data-reactid=\"1545\"><span data-reactid=\"1546\">3,206.52</span></td>, <td class=\"Py(10px) Pstart(10px)\" data-reactid=\"1547\"><span data-reactid=\"1548\">3,206.52</span></td>, <td class=\"Py(10px) Pstart(10px)\" data-reactid=\"1549\"><span data-reactid=\"1550\">2,369,400</span></td>]\n"
     ]
    }
   ],
   "source": [
    "amazon_data = pd.DataFrame(columns=[\"Date\", \"Open\", \"High\", \"Low\", \"Close\", \"Volume\"])\n",
    "\n",
    "for row in soup.find(\"tbody\").find_all(\"tr\"):\n",
    "    col = row.find_all(\"td\")\n",
    "    print(col)\n",
    "    date =col[0].text\n",
    "    Open = col[1].text\n",
    "    high =col[2].text\n",
    "    low = col[3].text\n",
    "    close = col[4].text\n",
    "    adj_close = col[5].text\n",
    "    volume = col[6].text\n",
    "    \n",
    "    amazon_data = amazon_data.append({\"Date\":date, \"Open\":Open, \"High\":high, \"Low\":low, \"Close\":close, \"Adj Close\":adj_close, \"Volume\":volume}, ignore_index=True)"
   ]
  },
  {
   "cell_type": "markdown",
   "metadata": {},
   "source": [
    "Print out the first five rows of the `amazon_data` dataframe you created.\n"
   ]
  },
  {
   "cell_type": "code",
   "execution_count": 34,
   "metadata": {},
   "outputs": [
    {
     "data": {
      "text/html": [
       "<div>\n",
       "<style scoped>\n",
       "    .dataframe tbody tr th:only-of-type {\n",
       "        vertical-align: middle;\n",
       "    }\n",
       "\n",
       "    .dataframe tbody tr th {\n",
       "        vertical-align: top;\n",
       "    }\n",
       "\n",
       "    .dataframe thead th {\n",
       "        text-align: right;\n",
       "    }\n",
       "</style>\n",
       "<table border=\"1\" class=\"dataframe\">\n",
       "  <thead>\n",
       "    <tr style=\"text-align: right;\">\n",
       "      <th></th>\n",
       "      <th>Date</th>\n",
       "      <th>Open</th>\n",
       "      <th>High</th>\n",
       "      <th>Low</th>\n",
       "      <th>Close</th>\n",
       "      <th>Volume</th>\n",
       "      <th>Adj Close</th>\n",
       "    </tr>\n",
       "  </thead>\n",
       "  <tbody>\n",
       "    <tr>\n",
       "      <th>0</th>\n",
       "      <td>May 17, 2021</td>\n",
       "      <td>3,245.93</td>\n",
       "      <td>3,292.75</td>\n",
       "      <td>3,234.59</td>\n",
       "      <td>3,270.39</td>\n",
       "      <td>3,723,900</td>\n",
       "      <td>3,270.39</td>\n",
       "    </tr>\n",
       "    <tr>\n",
       "      <th>1</th>\n",
       "      <td>May 14, 2021</td>\n",
       "      <td>3,185.56</td>\n",
       "      <td>3,228.86</td>\n",
       "      <td>3,183.00</td>\n",
       "      <td>3,222.90</td>\n",
       "      <td>3,321,400</td>\n",
       "      <td>3,222.90</td>\n",
       "    </tr>\n",
       "    <tr>\n",
       "      <th>2</th>\n",
       "      <td>May 13, 2021</td>\n",
       "      <td>3,185.47</td>\n",
       "      <td>3,203.84</td>\n",
       "      <td>3,133.00</td>\n",
       "      <td>3,161.47</td>\n",
       "      <td>3,350,900</td>\n",
       "      <td>3,161.47</td>\n",
       "    </tr>\n",
       "    <tr>\n",
       "      <th>3</th>\n",
       "      <td>May 12, 2021</td>\n",
       "      <td>3,185.00</td>\n",
       "      <td>3,207.94</td>\n",
       "      <td>3,133.10</td>\n",
       "      <td>3,151.94</td>\n",
       "      <td>4,936,400</td>\n",
       "      <td>3,151.94</td>\n",
       "    </tr>\n",
       "    <tr>\n",
       "      <th>4</th>\n",
       "      <td>May 11, 2021</td>\n",
       "      <td>3,136.28</td>\n",
       "      <td>3,238.00</td>\n",
       "      <td>3,127.37</td>\n",
       "      <td>3,223.91</td>\n",
       "      <td>4,619,800</td>\n",
       "      <td>3,223.91</td>\n",
       "    </tr>\n",
       "  </tbody>\n",
       "</table>\n",
       "</div>"
      ],
      "text/plain": [
       "           Date      Open      High       Low     Close     Volume Adj Close\n",
       "0  May 17, 2021  3,245.93  3,292.75  3,234.59  3,270.39  3,723,900  3,270.39\n",
       "1  May 14, 2021  3,185.56  3,228.86  3,183.00  3,222.90  3,321,400  3,222.90\n",
       "2  May 13, 2021  3,185.47  3,203.84  3,133.00  3,161.47  3,350,900  3,161.47\n",
       "3  May 12, 2021  3,185.00  3,207.94  3,133.10  3,151.94  4,936,400  3,151.94\n",
       "4  May 11, 2021  3,136.28  3,238.00  3,127.37  3,223.91  4,619,800  3,223.91"
      ]
     },
     "execution_count": 34,
     "metadata": {},
     "output_type": "execute_result"
    }
   ],
   "source": [
    "amazon_data.head(5)"
   ]
  },
  {
   "cell_type": "markdown",
   "metadata": {},
   "source": [
    "<b>Question 2</b> What is the name of the columns of the dataframe\n"
   ]
  },
  {
   "cell_type": "code",
   "execution_count": 32,
   "metadata": {},
   "outputs": [
    {
     "data": {
      "text/plain": [
       "Index(['Date', 'Open', 'High', 'Low', 'Close', 'Volume', 'Adj Close'], dtype='object')"
      ]
     },
     "execution_count": 32,
     "metadata": {},
     "output_type": "execute_result"
    }
   ],
   "source": [
    "amazon_data.columns"
   ]
  },
  {
   "cell_type": "markdown",
   "metadata": {},
   "source": [
    "3 recent values for open\n"
   ]
  },
  {
   "cell_type": "code",
   "execution_count": 56,
   "metadata": {},
   "outputs": [
    {
     "data": {
      "text/plain": [
       "0     3,245.93\n",
       "1     3,185.56\n",
       "2     3,185.47\n",
       "3     3,185.00\n",
       "4     3,136.28\n",
       "        ...   \n",
       "95    3,309.94\n",
       "96    3,194.00\n",
       "97    3,193.90\n",
       "98    3,205.00\n",
       "99    3,202.84\n",
       "Name: Open, Length: 79, dtype: object"
      ]
     },
     "execution_count": 56,
     "metadata": {},
     "output_type": "execute_result"
    }
   ],
   "source": [
    "recent = amazon_data[amazon_data['Date']>'Apr 30,2021']['Open']\n",
    "rece"
   ]
  }
 ],
 "metadata": {
  "kernelspec": {
   "display_name": "Python",
   "language": "python",
   "name": "conda-env-python-py"
  },
  "language_info": {
   "codemirror_mode": {
    "name": "ipython",
    "version": 3
   },
   "file_extension": ".py",
   "mimetype": "text/x-python",
   "name": "python",
   "nbconvert_exporter": "python",
   "pygments_lexer": "ipython3",
   "version": "3.6.13"
  }
 },
 "nbformat": 4,
 "nbformat_minor": 4
}
